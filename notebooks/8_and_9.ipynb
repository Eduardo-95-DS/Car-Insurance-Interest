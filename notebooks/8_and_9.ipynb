{
 "cells": [
  {
   "cell_type": "markdown",
   "metadata": {},
   "source": [
    "# **8 Model Performance**"
   ]
  },
  {
   "cell_type": "code",
   "execution_count": 31,
   "metadata": {
    "ExecuteTime": {
     "end_time": "2022-07-12T17:40:03.398953Z",
     "start_time": "2022-07-12T17:40:03.382952Z"
    }
   },
   "outputs": [],
   "source": [
    "# o erro da função é que a pessoa precisa passar um dataset com a variável target chamada de Response\n",
    "\n",
    "def precision_at_k(data,k=2000):   #2000 é apenas o default caso ngm passe o valor, poderia ser outro valor como 20000\n",
    "    # reset index\n",
    "    data=data.reset_index(drop=True) #necessário para q o index nao seja igual aos ids\n",
    "\n",
    "    # create ranking order\n",
    "    data['ranking']=data.index+1    #(para ñ começar do zero)\n",
    "\n",
    "    data['precision_at_k']=data['response'].cumsum()/data['ranking']\n",
    "    \n",
    "    return data.loc[k,'precision_at_k']"
   ]
  },
  {
   "cell_type": "code",
   "execution_count": 36,
   "metadata": {
    "ExecuteTime": {
     "end_time": "2022-07-12T17:54:15.959717Z",
     "start_time": "2022-07-12T17:54:15.941716Z"
    }
   },
   "outputs": [],
   "source": [
    "def recall_at_k(data,k=2000):   #k poderia ser outro valor como 20000\n",
    "    # reset index\n",
    "    data=data.reset_index(drop=True) #necessário para q o index nao seja igual aos ids\n",
    "\n",
    "    # create ranking order\n",
    "    data['ranking']=data.index+1    #(para ñ começar do zero)\n",
    "\n",
    "    data['recall_at_k']=data['response'].cumsum() /data['response'].sum()\n",
    "    \n",
    "    return data.loc[k,'recall_at_k']"
   ]
  },
  {
   "cell_type": "code",
   "execution_count": 26,
   "metadata": {
    "ExecuteTime": {
     "end_time": "2022-07-12T17:39:20.748514Z",
     "start_time": "2022-07-12T17:39:20.531501Z"
    }
   },
   "outputs": [],
   "source": [
    "# copy_data\n",
    "df8=x_validation.copy()\n",
    "df8['response']=y_validation.copy()       #response = propensity score\n",
    "\n",
    "# propensity score\n",
    "df8['score']=yhat_knn[:,1].tolist()\n",
    "\n",
    "# sorte clients by propensity score\n",
    "df8=df8.sort_values('score',ascending=False)\n",
    "\n",
    "# compute precision at k\n",
    "\n",
    "# compute recall at k"
   ]
  },
  {
   "cell_type": "code",
   "execution_count": 27,
   "metadata": {
    "ExecuteTime": {
     "end_time": "2022-07-12T17:39:24.677739Z",
     "start_time": "2022-07-12T17:39:24.550731Z"
    }
   },
   "outputs": [
    {
     "data": {
      "text/html": [
       "<div>\n",
       "<style scoped>\n",
       "    .dataframe tbody tr th:only-of-type {\n",
       "        vertical-align: middle;\n",
       "    }\n",
       "\n",
       "    .dataframe tbody tr th {\n",
       "        vertical-align: top;\n",
       "    }\n",
       "\n",
       "    .dataframe thead th {\n",
       "        text-align: right;\n",
       "    }\n",
       "</style>\n",
       "<table border=\"1\" class=\"dataframe\">\n",
       "  <thead>\n",
       "    <tr style=\"text-align: right;\">\n",
       "      <th></th>\n",
       "      <th>id</th>\n",
       "      <th>previously_insured</th>\n",
       "      <th>annual_premium</th>\n",
       "      <th>vintage</th>\n",
       "      <th>gender</th>\n",
       "      <th>age</th>\n",
       "      <th>region_code</th>\n",
       "      <th>policy_sales_channel</th>\n",
       "      <th>driving_license</th>\n",
       "      <th>vehicle_damage</th>\n",
       "      <th>vehicle_age_below_1_year</th>\n",
       "      <th>vehicle_age_between_1_2_years</th>\n",
       "      <th>vehicle_age_over_2_years</th>\n",
       "      <th>response</th>\n",
       "      <th>score</th>\n",
       "    </tr>\n",
       "  </thead>\n",
       "  <tbody>\n",
       "    <tr>\n",
       "      <th>110249</th>\n",
       "      <td>110250</td>\n",
       "      <td>0</td>\n",
       "      <td>1.058370</td>\n",
       "      <td>0.259516</td>\n",
       "      <td>0.138422</td>\n",
       "      <td>0.415385</td>\n",
       "      <td>0.187506</td>\n",
       "      <td>0.209205</td>\n",
       "      <td>1</td>\n",
       "      <td>1</td>\n",
       "      <td>0</td>\n",
       "      <td>1</td>\n",
       "      <td>0</td>\n",
       "      <td>0</td>\n",
       "      <td>1.0</td>\n",
       "    </tr>\n",
       "    <tr>\n",
       "      <th>194125</th>\n",
       "      <td>194126</td>\n",
       "      <td>0</td>\n",
       "      <td>0.482771</td>\n",
       "      <td>0.474048</td>\n",
       "      <td>0.138422</td>\n",
       "      <td>0.138462</td>\n",
       "      <td>0.121270</td>\n",
       "      <td>0.194426</td>\n",
       "      <td>1</td>\n",
       "      <td>1</td>\n",
       "      <td>1</td>\n",
       "      <td>0</td>\n",
       "      <td>0</td>\n",
       "      <td>1</td>\n",
       "      <td>1.0</td>\n",
       "    </tr>\n",
       "    <tr>\n",
       "      <th>66019</th>\n",
       "      <td>66020</td>\n",
       "      <td>0</td>\n",
       "      <td>3.532505</td>\n",
       "      <td>0.598616</td>\n",
       "      <td>0.138422</td>\n",
       "      <td>0.507692</td>\n",
       "      <td>0.130072</td>\n",
       "      <td>0.000039</td>\n",
       "      <td>1</td>\n",
       "      <td>1</td>\n",
       "      <td>0</td>\n",
       "      <td>1</td>\n",
       "      <td>0</td>\n",
       "      <td>0</td>\n",
       "      <td>1.0</td>\n",
       "    </tr>\n",
       "    <tr>\n",
       "      <th>45332</th>\n",
       "      <td>45333</td>\n",
       "      <td>0</td>\n",
       "      <td>0.156613</td>\n",
       "      <td>0.792388</td>\n",
       "      <td>0.103964</td>\n",
       "      <td>0.200000</td>\n",
       "      <td>0.087909</td>\n",
       "      <td>0.194426</td>\n",
       "      <td>1</td>\n",
       "      <td>1</td>\n",
       "      <td>0</td>\n",
       "      <td>1</td>\n",
       "      <td>0</td>\n",
       "      <td>0</td>\n",
       "      <td>1.0</td>\n",
       "    </tr>\n",
       "    <tr>\n",
       "      <th>108100</th>\n",
       "      <td>108101</td>\n",
       "      <td>0</td>\n",
       "      <td>1.703943</td>\n",
       "      <td>0.477509</td>\n",
       "      <td>0.103964</td>\n",
       "      <td>0.400000</td>\n",
       "      <td>0.187506</td>\n",
       "      <td>0.194426</td>\n",
       "      <td>1</td>\n",
       "      <td>1</td>\n",
       "      <td>0</td>\n",
       "      <td>1</td>\n",
       "      <td>0</td>\n",
       "      <td>0</td>\n",
       "      <td>1.0</td>\n",
       "    </tr>\n",
       "  </tbody>\n",
       "</table>\n",
       "</div>"
      ],
      "text/plain": [
       "            id  previously_insured  annual_premium   vintage    gender  \\\n",
       "110249  110250                   0        1.058370  0.259516  0.138422   \n",
       "194125  194126                   0        0.482771  0.474048  0.138422   \n",
       "66019    66020                   0        3.532505  0.598616  0.138422   \n",
       "45332    45333                   0        0.156613  0.792388  0.103964   \n",
       "108100  108101                   0        1.703943  0.477509  0.103964   \n",
       "\n",
       "             age  region_code  policy_sales_channel  driving_license  \\\n",
       "110249  0.415385     0.187506              0.209205                1   \n",
       "194125  0.138462     0.121270              0.194426                1   \n",
       "66019   0.507692     0.130072              0.000039                1   \n",
       "45332   0.200000     0.087909              0.194426                1   \n",
       "108100  0.400000     0.187506              0.194426                1   \n",
       "\n",
       "        vehicle_damage  vehicle_age_below_1_year  \\\n",
       "110249               1                         0   \n",
       "194125               1                         1   \n",
       "66019                1                         0   \n",
       "45332                1                         0   \n",
       "108100               1                         0   \n",
       "\n",
       "        vehicle_age_between_1_2_years  vehicle_age_over_2_years  response  \\\n",
       "110249                              1                         0         0   \n",
       "194125                              0                         0         1   \n",
       "66019                               1                         0         0   \n",
       "45332                               1                         0         0   \n",
       "108100                              1                         0         0   \n",
       "\n",
       "        score  \n",
       "110249    1.0  \n",
       "194125    1.0  \n",
       "66019     1.0  \n",
       "45332     1.0  \n",
       "108100    1.0  "
      ]
     },
     "execution_count": 27,
     "metadata": {},
     "output_type": "execute_result"
    }
   ],
   "source": [
    "df8.head()"
   ]
  },
  {
   "cell_type": "code",
   "execution_count": 28,
   "metadata": {
    "ExecuteTime": {
     "end_time": "2022-07-12T17:39:28.718970Z",
     "start_time": "2022-07-12T17:39:28.561961Z"
    }
   },
   "outputs": [
    {
     "data": {
      "text/html": [
       "<div>\n",
       "<style scoped>\n",
       "    .dataframe tbody tr th:only-of-type {\n",
       "        vertical-align: middle;\n",
       "    }\n",
       "\n",
       "    .dataframe tbody tr th {\n",
       "        vertical-align: top;\n",
       "    }\n",
       "\n",
       "    .dataframe thead th {\n",
       "        text-align: right;\n",
       "    }\n",
       "</style>\n",
       "<table border=\"1\" class=\"dataframe\">\n",
       "  <thead>\n",
       "    <tr style=\"text-align: right;\">\n",
       "      <th></th>\n",
       "      <th>id</th>\n",
       "      <th>response</th>\n",
       "      <th>score</th>\n",
       "      <th>ranking</th>\n",
       "      <th>precision_at_k</th>\n",
       "    </tr>\n",
       "  </thead>\n",
       "  <tbody>\n",
       "    <tr>\n",
       "      <th>0</th>\n",
       "      <td>110250</td>\n",
       "      <td>0</td>\n",
       "      <td>1.000000</td>\n",
       "      <td>1</td>\n",
       "      <td>0.000000</td>\n",
       "    </tr>\n",
       "    <tr>\n",
       "      <th>1</th>\n",
       "      <td>194126</td>\n",
       "      <td>1</td>\n",
       "      <td>1.000000</td>\n",
       "      <td>2</td>\n",
       "      <td>0.500000</td>\n",
       "    </tr>\n",
       "    <tr>\n",
       "      <th>2</th>\n",
       "      <td>66020</td>\n",
       "      <td>0</td>\n",
       "      <td>1.000000</td>\n",
       "      <td>3</td>\n",
       "      <td>0.333333</td>\n",
       "    </tr>\n",
       "    <tr>\n",
       "      <th>3</th>\n",
       "      <td>45333</td>\n",
       "      <td>0</td>\n",
       "      <td>1.000000</td>\n",
       "      <td>4</td>\n",
       "      <td>0.250000</td>\n",
       "    </tr>\n",
       "    <tr>\n",
       "      <th>4</th>\n",
       "      <td>108101</td>\n",
       "      <td>0</td>\n",
       "      <td>1.000000</td>\n",
       "      <td>5</td>\n",
       "      <td>0.200000</td>\n",
       "    </tr>\n",
       "    <tr>\n",
       "      <th>5</th>\n",
       "      <td>334995</td>\n",
       "      <td>1</td>\n",
       "      <td>1.000000</td>\n",
       "      <td>6</td>\n",
       "      <td>0.333333</td>\n",
       "    </tr>\n",
       "    <tr>\n",
       "      <th>6</th>\n",
       "      <td>174463</td>\n",
       "      <td>1</td>\n",
       "      <td>1.000000</td>\n",
       "      <td>7</td>\n",
       "      <td>0.428571</td>\n",
       "    </tr>\n",
       "    <tr>\n",
       "      <th>7</th>\n",
       "      <td>43904</td>\n",
       "      <td>0</td>\n",
       "      <td>1.000000</td>\n",
       "      <td>8</td>\n",
       "      <td>0.375000</td>\n",
       "    </tr>\n",
       "    <tr>\n",
       "      <th>8</th>\n",
       "      <td>368460</td>\n",
       "      <td>1</td>\n",
       "      <td>0.857143</td>\n",
       "      <td>9</td>\n",
       "      <td>0.444444</td>\n",
       "    </tr>\n",
       "    <tr>\n",
       "      <th>9</th>\n",
       "      <td>37995</td>\n",
       "      <td>0</td>\n",
       "      <td>0.857143</td>\n",
       "      <td>10</td>\n",
       "      <td>0.400000</td>\n",
       "    </tr>\n",
       "  </tbody>\n",
       "</table>\n",
       "</div>"
      ],
      "text/plain": [
       "       id  response     score  ranking  precision_at_k\n",
       "0  110250         0  1.000000        1        0.000000\n",
       "1  194126         1  1.000000        2        0.500000\n",
       "2   66020         0  1.000000        3        0.333333\n",
       "3   45333         0  1.000000        4        0.250000\n",
       "4  108101         0  1.000000        5        0.200000\n",
       "5  334995         1  1.000000        6        0.333333\n",
       "6  174463         1  1.000000        7        0.428571\n",
       "7   43904         0  1.000000        8        0.375000\n",
       "8  368460         1  0.857143        9        0.444444\n",
       "9   37995         0  0.857143       10        0.400000"
      ]
     },
     "execution_count": 28,
     "metadata": {},
     "output_type": "execute_result"
    }
   ],
   "source": [
    "# reset index\n",
    "df8=df8.reset_index(drop=True)\n",
    "\n",
    "# create ranking order\n",
    "df8['ranking']=df8.index+1    #(para ñ começar do zero)\n",
    "\n",
    "df8['precision_at_k']=df8['response'].cumsum()/df8['ranking']\n",
    "\n",
    "df8[['id','response','score','ranking','precision_at_k']].head(10)"
   ]
  },
  {
   "cell_type": "code",
   "execution_count": null,
   "metadata": {},
   "outputs": [],
   "source": [
    "# def precision_at_k(data,k=2000):   # k poderia ser outro valor como 20000\n",
    "#     # reset index\n",
    "#     df8=df8.reset_index(drop=True)\n",
    "\n",
    "#     # create ranking order\n",
    "#     df8['ranking']=df8.index+1    #(para ñ começar do zero)\n",
    "\n",
    "#     df8['precision_at_k']=df8['response'].cumsum()/df8['ranking']\n",
    "    \n",
    "#     return data.loc[k,'precision_at_k']"
   ]
  },
  {
   "cell_type": "code",
   "execution_count": 38,
   "metadata": {
    "ExecuteTime": {
     "end_time": "2022-07-12T17:57:46.793776Z",
     "start_time": "2022-07-12T17:57:46.744773Z"
    }
   },
   "outputs": [
    {
     "data": {
      "text/plain": [
       "0.3137254901960784"
      ]
     },
     "execution_count": 38,
     "metadata": {},
     "output_type": "execute_result"
    }
   ],
   "source": [
    "# compute precision at k\n",
    "precision_at_50=precision_at_k(df8,k=50)\n",
    "precision_at_50"
   ]
  },
  {
   "cell_type": "code",
   "execution_count": 39,
   "metadata": {
    "ExecuteTime": {
     "end_time": "2022-07-12T17:57:50.764003Z",
     "start_time": "2022-07-12T17:57:50.707000Z"
    }
   },
   "outputs": [
    {
     "data": {
      "text/plain": [
       "0.0017139796464916979"
      ]
     },
     "execution_count": 39,
     "metadata": {},
     "output_type": "execute_result"
    }
   ],
   "source": [
    "# compute recall at k\n",
    "recall_at_50=recall_at_k(df8,k=50)\n",
    "recall_at_50"
   ]
  },
  {
   "cell_type": "markdown",
   "metadata": {},
   "source": [
    "# **9 Deploy to production**"
   ]
  },
  {
   "cell_type": "code",
   "execution_count": null,
   "metadata": {},
   "outputs": [],
   "source": []
  },
  {
   "cell_type": "markdown",
   "metadata": {},
   "source": [
    "## **9.1 Health insurance class**"
   ]
  },
  {
   "cell_type": "code",
   "execution_count": null,
   "metadata": {},
   "outputs": [],
   "source": [
    "class HealthInsurance:\n",
    "    \n",
    "    def __init__(self):        \n",
    "        self.home_path=''\n",
    "        self.annual_premium_scaler =            pickle.load(open(self.home_path + ''))\n",
    "        self.age_scaler =                       pickle.load(open(self.home_path + ''))\n",
    "        self.vintage_scaler =                   pickle.load(open(self.home_path + ''))\n",
    "        self.target_encode_gender_scaler =      pickle.load(open(self.home_path + ''))\n",
    "        self.target_encode_region_code_scaler = pickle.load(open(self.home_path + '')) \n",
    "        self.fe_policy_sales_channel_scaler =   pickle.load(open(self.home_path + ''))\n",
    "        \n",
    "        \n",
    "    def data_cleaning(df1):        \n",
    "#         rename columns\n",
    "        cols_new=['id','gender','age','driving_license','region_code','previously_insured','vehicle_age',\n",
    "                 'vehicle_damage','annual_premium','policy_sales_channel','vintage','response']\n",
    "#         rename\n",
    "        df1.columns=cols_new\n",
    "    \n",
    "        return df1\n",
    "    \n",
    "    \n",
    "    def feature_engineering(self,df2):        \n",
    "#         vehicle damage number\n",
    "        df2['vehicle_damage']=df2['vehicle_damage'].apply(lambda x: 1 if x == 'Yes' else 0)\n",
    "    \n",
    "#         vehicle age\n",
    "        df2['vehicle_age']=df2['vehicle_age'].apply(lambda x: 'over_2_years' if x == '> 2 Years' \n",
    "                                            else 'between_1_2_years' if x == '1-2 Year'\n",
    "                                            else 'below_1_year')\n",
    "    \n",
    "    \n",
    "    def data_preparation(df5):       \n",
    "#         annual_premium - standardscaler\n",
    "        df5['annual_premium']=self.annual_premium_scaler.transform(df5[['annual_premium']].values)\n",
    "    \n",
    "#         age - minmaxScaler\n",
    "        df5['age']=self.age_scaler.transform(df5[['age']].values)\n",
    "    \n",
    "#         vintage - minmaxscaler\n",
    "        df5['vintage']=self.vintage_scaler.fit_transform(df5[['vintage']].values)\n",
    "        \n",
    "#         gender - target encoding\n",
    "        df5.loc[:,'gender']=df5['gender'].map(self.target_encode_gender_scaler)\n",
    "\n",
    "#         region_code - target encoding\n",
    "        df5.loc[:,'region_code']=df5['region_code'].map(self.target_encode_region_code_scaler)\n",
    "    \n",
    "#         vehicle_age - one hot encoding/frequency encoding\n",
    "        df5=pd.get_dummies(df5,prefix='vehicle_age',columns=['vehicle_age'])\n",
    "    \n",
    "#         policy_sales_channel - frequency encoding\n",
    "        df5.loc[:,'policy_sales_channel']=df5['policy_sales_channel'].map(self.fe_policy_sales_channel_scaler)\n",
    "    \n",
    "#         feature selection\n",
    "        cols_selected=['annual_premium','vintage','age','region_code','vehicle_damage','previously_insured',\n",
    "                      'policy_sales_channel']\n",
    "    \n",
    "        return df5[cols_selected]\n",
    "    \n",
    "    \n",
    "    def get_prediction(self,model,original_data,test_data):   # test_data = produção\n",
    "#         model prediction\n",
    "        pred=model.predict_proba(test_data)\n",
    "    \n",
    "#         join prediction into original data\n",
    "        original_data['score']=pred                  # score = prediction\n",
    "    \n",
    "        return original_data.to_json(orient='records',date_format='iso')"
   ]
  },
  {
   "cell_type": "markdown",
   "metadata": {},
   "source": [
    "## **9.2 API handler**"
   ]
  },
  {
   "cell_type": "code",
   "execution_count": null,
   "metadata": {},
   "outputs": [],
   "source": [
    "import pickle\n",
    "import pandas as pd\n",
    "from flask import Flask,request,Response\n",
    "from healthinsurance import HealthInsurance\n",
    "\n",
    "\n",
    "# loading model\n",
    "path= '' ...health_insurance_cross-sell\n",
    "model=pickle.load(open(path + '...model_health_insurance.pkl','rb'))\n",
    "\n",
    "\n",
    "# rabitmq\n",
    "# redis\n",
    "\n",
    "\n",
    "# initial API\n",
    "app=Flask(__name__)   # classe flask instanciada\n",
    "\n",
    "@app.route('/predict',methods=['POST'])   # api apenas recebe requisições, predict é o endpoint\n",
    "def health_insurance_predict():\n",
    "    test_json=request.get_json()\n",
    "    \n",
    "    if test_json:  # theres date\n",
    "        if isinstance(test_json,dict): # unique example         dicionário significa que foi recebido apenas uma linha \n",
    "            test_raw=pd.DataFrame(test_json,index=[0])  # ñ necessariamente precisa virar um dataframe (numpy,array etc)\n",
    "                                                        # index=0 pands precisa da indicação da linha inicial pra criar o df\n",
    "        else: # multiple example\n",
    "            test_raw=pd.DataFrame(test_json,columns=test_json[0].keys())  # json significa q foi recebido várias linhas, nome das colunas são as chaves do json\n",
    "            \n",
    "#         instantiate health insurance class\n",
    "        pipeline=HealthInsurance()\n",
    "    \n",
    "#         data cleaning\n",
    "        df1=pipeline.data_cleaning(test_raw)\n",
    "    \n",
    "#         feature engineering\n",
    "        df2=pipeline.feature_engineering(df1)\n",
    "    \n",
    "#         data preparation\n",
    "        df3=pipeline.data_preparation(df2)\n",
    "    \n",
    "#         prediction\n",
    "        df_response=pipeline.get_prediction(model,test_raw,df3)\n",
    "    \n",
    "        return df_response\n",
    "    \n",
    "    else:\n",
    "        return Response( '{}', status=200, mimetype='application/json')\n",
    "        \n",
    "if __name__ == '__main__':\n",
    "    app.run('0.0.0.0',debug=True)"
   ]
  },
  {
   "cell_type": "markdown",
   "metadata": {},
   "source": [
    "## **9.3 API tester**"
   ]
  },
  {
   "cell_type": "code",
   "execution_count": 1,
   "metadata": {
    "ExecuteTime": {
     "end_time": "2022-07-20T15:45:18.781194Z",
     "start_time": "2022-07-20T15:45:18.315167Z"
    }
   },
   "outputs": [],
   "source": [
    "import requests"
   ]
  },
  {
   "cell_type": "code",
   "execution_count": null,
   "metadata": {},
   "outputs": [],
   "source": [
    "# loading test dataset\n",
    "df_test=x_validation\n",
    "df_test['response']=y_validation  # o certo é ter o erro ao invés da response"
   ]
  },
  {
   "cell_type": "code",
   "execution_count": null,
   "metadata": {},
   "outputs": [],
   "source": [
    "df_test=df_test.sample(10)"
   ]
  },
  {
   "cell_type": "code",
   "execution_count": null,
   "metadata": {},
   "outputs": [],
   "source": [
    "# convert dataframe to json\n",
    "data=json.dumps(df_test.to_dict(oriente='records'))"
   ]
  },
  {
   "cell_type": "code",
   "execution_count": null,
   "metadata": {},
   "outputs": [],
   "source": [
    "data"
   ]
  },
  {
   "cell_type": "code",
   "execution_count": null,
   "metadata": {},
   "outputs": [],
   "source": [
    "# API call\n",
    "# url='http://0.0.0.0:5000/predict'                            # teste local\n",
    "url='https://health-insurance-model.herokuapp.com/predict'     # teste produção\n",
    "header={'Content-type':'application/json'}                     # indicando pra api q to passando um json\n",
    "\n",
    "r=requests.post(url,data=data,headers=header)\n",
    "print('Status Code {}'.format (r.status_code))"
   ]
  },
  {
   "cell_type": "code",
   "execution_count": null,
   "metadata": {},
   "outputs": [],
   "source": [
    "d1=pd.DataFrame(r.json(),columns=r.json()[0].keys())\n",
    "d1.sort_values('score',ascending=False).head()"
   ]
  },
  {
   "cell_type": "code",
   "execution_count": null,
   "metadata": {},
   "outputs": [],
   "source": []
  },
  {
   "cell_type": "code",
   "execution_count": null,
   "metadata": {},
   "outputs": [],
   "source": []
  },
  {
   "cell_type": "code",
   "execution_count": null,
   "metadata": {},
   "outputs": [],
   "source": []
  },
  {
   "cell_type": "code",
   "execution_count": null,
   "metadata": {},
   "outputs": [],
   "source": []
  }
 ],
 "metadata": {
  "hide_input": false,
  "kernelspec": {
   "display_name": "Python 3 (ipykernel)",
   "language": "python",
   "name": "python3"
  },
  "language_info": {
   "codemirror_mode": {
    "name": "ipython",
    "version": 3
   },
   "file_extension": ".py",
   "mimetype": "text/x-python",
   "name": "python",
   "nbconvert_exporter": "python",
   "pygments_lexer": "ipython3",
   "version": "3.10.4"
  },
  "varInspector": {
   "cols": {
    "lenName": 16,
    "lenType": 16,
    "lenVar": 40
   },
   "kernels_config": {
    "python": {
     "delete_cmd_postfix": "",
     "delete_cmd_prefix": "del ",
     "library": "var_list.py",
     "varRefreshCmd": "print(var_dic_list())"
    },
    "r": {
     "delete_cmd_postfix": ") ",
     "delete_cmd_prefix": "rm(",
     "library": "var_list.r",
     "varRefreshCmd": "cat(var_dic_list()) "
    }
   },
   "types_to_exclude": [
    "module",
    "function",
    "builtin_function_or_method",
    "instance",
    "_Feature"
   ],
   "window_display": false
  }
 },
 "nbformat": 4,
 "nbformat_minor": 2
}

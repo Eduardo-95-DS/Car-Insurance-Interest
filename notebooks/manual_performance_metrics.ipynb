{
 "cells": [
  {
   "cell_type": "code",
   "execution_count": 1,
   "metadata": {
    "ExecuteTime": {
     "end_time": "2022-08-02T17:32:59.748331Z",
     "start_time": "2022-08-02T17:32:49.530747Z"
    }
   },
   "outputs": [],
   "source": [
    "import pandas              as pd\n",
    "import numpy               as np\n",
    "import seaborn             as sns\n",
    "import scikitplot          as skplt\n",
    "from matplotlib            import pyplot          as plt\n",
    "from matplotlib            import style\n",
    "from IPython.display       import Image\n",
    "from IPython.core.display  import HTML\n",
    "from pylab                 import rcParams\n",
    "from IPython.display       import Image\n",
    "from scipy                 import stats           as ss     \n",
    "from sklearn               import preprocessing   as pp\n",
    "from sklearn               import model_selection as ms            \n",
    "from sklearn               import ensemble        as en\n",
    "from sklearn               import neighbors       as nh\n",
    "from sklearn               import linear_model    as lm\n",
    "from sklearn.svm           import SVC             as svc\n",
    "\n",
    "\n",
    "sns.set_style(\"darkgrid\")\n",
    "plt.style.use(\"default\")\n",
    "rcParams['figure.figsize'] = 14,5"
   ]
  },
  {
   "cell_type": "markdown",
   "metadata": {},
   "source": [
    "# **5 Data preparation**"
   ]
  },
  {
   "cell_type": "code",
   "execution_count": 2,
   "metadata": {
    "ExecuteTime": {
     "end_time": "2022-08-02T17:34:04.866055Z",
     "start_time": "2022-08-02T17:34:02.325910Z"
    }
   },
   "outputs": [],
   "source": [
    "df4=pd.read_csv(r'C:\\Users\\caixa\\Desktop\\mega\\ds\\5_pa04\\df4',low_memory=False)\n",
    "df5=df4.copy()"
   ]
  },
  {
   "cell_type": "code",
   "execution_count": 3,
   "metadata": {
    "ExecuteTime": {
     "end_time": "2022-08-02T17:34:06.226133Z",
     "start_time": "2022-08-02T17:34:04.873056Z"
    }
   },
   "outputs": [],
   "source": [
    "# encontrar o poder de generalização pq vai usar dados q o modelo nunca viu\n",
    "\n",
    "X=df4.drop('response',axis=1)\n",
    "y=df4['response'].copy()\n",
    "\n",
    "x_train, x_validation, y_train, y_validation = ms.train_test_split(X,y,test_size=0.20)\n",
    "\n",
    "df5=pd.concat ([x_train, y_train], axis=1) # se torna o dataset de treino"
   ]
  },
  {
   "cell_type": "code",
   "execution_count": 65,
   "metadata": {
    "ExecuteTime": {
     "end_time": "2022-08-02T18:13:30.141341Z",
     "start_time": "2022-08-02T18:13:30.053336Z"
    },
    "cell_style": "split",
    "hide_input": true
   },
   "outputs": [
    {
     "name": "stdout",
     "output_type": "stream",
     "text": [
      "X\n",
      "(381109, 11)\n"
     ]
    },
    {
     "data": {
      "text/html": [
       "<div>\n",
       "<style scoped>\n",
       "    .dataframe tbody tr th:only-of-type {\n",
       "        vertical-align: middle;\n",
       "    }\n",
       "\n",
       "    .dataframe tbody tr th {\n",
       "        vertical-align: top;\n",
       "    }\n",
       "\n",
       "    .dataframe thead th {\n",
       "        text-align: right;\n",
       "    }\n",
       "</style>\n",
       "<table border=\"1\" class=\"dataframe\">\n",
       "  <thead>\n",
       "    <tr style=\"text-align: right;\">\n",
       "      <th></th>\n",
       "      <th>id</th>\n",
       "      <th>previously_insured</th>\n",
       "      <th>annual_premium</th>\n",
       "      <th>vintage</th>\n",
       "      <th>gender</th>\n",
       "      <th>age</th>\n",
       "      <th>region_code</th>\n",
       "      <th>policy_sales_channel</th>\n",
       "      <th>driving_license</th>\n",
       "      <th>vehicle_age</th>\n",
       "      <th>vehicle_damage</th>\n",
       "    </tr>\n",
       "  </thead>\n",
       "  <tbody>\n",
       "    <tr>\n",
       "      <th>0</th>\n",
       "      <td>1</td>\n",
       "      <td>0</td>\n",
       "      <td>40454.0</td>\n",
       "      <td>217</td>\n",
       "      <td>Male</td>\n",
       "      <td>44</td>\n",
       "      <td>28</td>\n",
       "      <td>26</td>\n",
       "      <td>1</td>\n",
       "      <td>over_2_years</td>\n",
       "      <td>1</td>\n",
       "    </tr>\n",
       "    <tr>\n",
       "      <th>1</th>\n",
       "      <td>2</td>\n",
       "      <td>0</td>\n",
       "      <td>33536.0</td>\n",
       "      <td>183</td>\n",
       "      <td>Male</td>\n",
       "      <td>76</td>\n",
       "      <td>3</td>\n",
       "      <td>26</td>\n",
       "      <td>1</td>\n",
       "      <td>between_1_2_years</td>\n",
       "      <td>0</td>\n",
       "    </tr>\n",
       "    <tr>\n",
       "      <th>2</th>\n",
       "      <td>3</td>\n",
       "      <td>0</td>\n",
       "      <td>38294.0</td>\n",
       "      <td>27</td>\n",
       "      <td>Male</td>\n",
       "      <td>47</td>\n",
       "      <td>28</td>\n",
       "      <td>26</td>\n",
       "      <td>1</td>\n",
       "      <td>over_2_years</td>\n",
       "      <td>1</td>\n",
       "    </tr>\n",
       "    <tr>\n",
       "      <th>3</th>\n",
       "      <td>4</td>\n",
       "      <td>1</td>\n",
       "      <td>28619.0</td>\n",
       "      <td>203</td>\n",
       "      <td>Male</td>\n",
       "      <td>21</td>\n",
       "      <td>11</td>\n",
       "      <td>152</td>\n",
       "      <td>1</td>\n",
       "      <td>below_1_year</td>\n",
       "      <td>0</td>\n",
       "    </tr>\n",
       "    <tr>\n",
       "      <th>4</th>\n",
       "      <td>5</td>\n",
       "      <td>1</td>\n",
       "      <td>27496.0</td>\n",
       "      <td>39</td>\n",
       "      <td>Female</td>\n",
       "      <td>29</td>\n",
       "      <td>41</td>\n",
       "      <td>152</td>\n",
       "      <td>1</td>\n",
       "      <td>below_1_year</td>\n",
       "      <td>0</td>\n",
       "    </tr>\n",
       "  </tbody>\n",
       "</table>\n",
       "</div>"
      ],
      "text/plain": [
       "   id  previously_insured  annual_premium  vintage  gender  age  region_code  \\\n",
       "0   1                   0         40454.0      217    Male   44           28   \n",
       "1   2                   0         33536.0      183    Male   76            3   \n",
       "2   3                   0         38294.0       27    Male   47           28   \n",
       "3   4                   1         28619.0      203    Male   21           11   \n",
       "4   5                   1         27496.0       39  Female   29           41   \n",
       "\n",
       "   policy_sales_channel  driving_license        vehicle_age  vehicle_damage  \n",
       "0                    26                1       over_2_years               1  \n",
       "1                    26                1  between_1_2_years               0  \n",
       "2                    26                1       over_2_years               1  \n",
       "3                   152                1       below_1_year               0  \n",
       "4                   152                1       below_1_year               0  "
      ]
     },
     "execution_count": 65,
     "metadata": {},
     "output_type": "execute_result"
    }
   ],
   "source": [
    "print('X')\n",
    "print(X.shape)\n",
    "X.head()"
   ]
  },
  {
   "cell_type": "code",
   "execution_count": 66,
   "metadata": {
    "ExecuteTime": {
     "end_time": "2022-08-02T18:14:11.411702Z",
     "start_time": "2022-08-02T18:14:11.368700Z"
    },
    "cell_style": "split",
    "hide_input": true
   },
   "outputs": [
    {
     "name": "stdout",
     "output_type": "stream",
     "text": [
      "y\n",
      "(381109,)\n"
     ]
    },
    {
     "data": {
      "text/plain": [
       "0     1\n",
       "1     0\n",
       "2     1\n",
       "3     0\n",
       "4     0\n",
       "5     0\n",
       "6     0\n",
       "7     1\n",
       "8     0\n",
       "9     0\n",
       "10    1\n",
       "Name: response, dtype: int64"
      ]
     },
     "execution_count": 66,
     "metadata": {},
     "output_type": "execute_result"
    }
   ],
   "source": [
    "print('y')\n",
    "print(y.shape)\n",
    "y.head(11)"
   ]
  },
  {
   "cell_type": "code",
   "execution_count": 67,
   "metadata": {
    "ExecuteTime": {
     "end_time": "2022-08-02T18:14:30.446791Z",
     "start_time": "2022-08-02T18:14:30.358786Z"
    },
    "cell_style": "split",
    "hide_input": true
   },
   "outputs": [
    {
     "name": "stdout",
     "output_type": "stream",
     "text": [
      "x_train\n",
      "(304887, 7)\n"
     ]
    },
    {
     "data": {
      "text/html": [
       "<div>\n",
       "<style scoped>\n",
       "    .dataframe tbody tr th:only-of-type {\n",
       "        vertical-align: middle;\n",
       "    }\n",
       "\n",
       "    .dataframe tbody tr th {\n",
       "        vertical-align: top;\n",
       "    }\n",
       "\n",
       "    .dataframe thead th {\n",
       "        text-align: right;\n",
       "    }\n",
       "</style>\n",
       "<table border=\"1\" class=\"dataframe\">\n",
       "  <thead>\n",
       "    <tr style=\"text-align: right;\">\n",
       "      <th></th>\n",
       "      <th>annual_premium</th>\n",
       "      <th>vintage</th>\n",
       "      <th>age</th>\n",
       "      <th>region_code</th>\n",
       "      <th>vehicle_damage</th>\n",
       "      <th>previously_insured</th>\n",
       "      <th>policy_sales_channel</th>\n",
       "    </tr>\n",
       "  </thead>\n",
       "  <tbody>\n",
       "    <tr>\n",
       "      <th>108504</th>\n",
       "      <td>-1.619909</td>\n",
       "      <td>0.737024</td>\n",
       "      <td>0.492308</td>\n",
       "      <td>0.101938</td>\n",
       "      <td>1</td>\n",
       "      <td>0</td>\n",
       "      <td>0.209435</td>\n",
       "    </tr>\n",
       "    <tr>\n",
       "      <th>25605</th>\n",
       "      <td>0.168245</td>\n",
       "      <td>0.103806</td>\n",
       "      <td>0.076923</td>\n",
       "      <td>0.095761</td>\n",
       "      <td>0</td>\n",
       "      <td>1</td>\n",
       "      <td>0.209435</td>\n",
       "    </tr>\n",
       "    <tr>\n",
       "      <th>32195</th>\n",
       "      <td>0.474945</td>\n",
       "      <td>0.685121</td>\n",
       "      <td>0.507692</td>\n",
       "      <td>0.121289</td>\n",
       "      <td>0</td>\n",
       "      <td>1</td>\n",
       "      <td>0.193996</td>\n",
       "    </tr>\n",
       "    <tr>\n",
       "      <th>47859</th>\n",
       "      <td>0.621804</td>\n",
       "      <td>0.525952</td>\n",
       "      <td>0.707692</td>\n",
       "      <td>0.079503</td>\n",
       "      <td>1</td>\n",
       "      <td>0</td>\n",
       "      <td>0.209435</td>\n",
       "    </tr>\n",
       "    <tr>\n",
       "      <th>361069</th>\n",
       "      <td>-0.145003</td>\n",
       "      <td>0.916955</td>\n",
       "      <td>0.030769</td>\n",
       "      <td>0.059606</td>\n",
       "      <td>0</td>\n",
       "      <td>1</td>\n",
       "      <td>0.353665</td>\n",
       "    </tr>\n",
       "  </tbody>\n",
       "</table>\n",
       "</div>"
      ],
      "text/plain": [
       "        annual_premium   vintage       age  region_code  vehicle_damage  \\\n",
       "108504       -1.619909  0.737024  0.492308     0.101938               1   \n",
       "25605         0.168245  0.103806  0.076923     0.095761               0   \n",
       "32195         0.474945  0.685121  0.507692     0.121289               0   \n",
       "47859         0.621804  0.525952  0.707692     0.079503               1   \n",
       "361069       -0.145003  0.916955  0.030769     0.059606               0   \n",
       "\n",
       "        previously_insured  policy_sales_channel  \n",
       "108504                   0              0.209435  \n",
       "25605                    1              0.209435  \n",
       "32195                    1              0.193996  \n",
       "47859                    0              0.209435  \n",
       "361069                   1              0.353665  "
      ]
     },
     "execution_count": 67,
     "metadata": {},
     "output_type": "execute_result"
    }
   ],
   "source": [
    "print('x_train')\n",
    "print(x_train.shape)\n",
    "x_train.head()"
   ]
  },
  {
   "cell_type": "code",
   "execution_count": 68,
   "metadata": {
    "ExecuteTime": {
     "end_time": "2022-08-02T18:14:44.706606Z",
     "start_time": "2022-08-02T18:14:44.608601Z"
    },
    "cell_style": "split",
    "hide_input": true
   },
   "outputs": [
    {
     "name": "stdout",
     "output_type": "stream",
     "text": [
      "x_validation\n",
      "(76222, 13)\n"
     ]
    },
    {
     "data": {
      "text/html": [
       "<div>\n",
       "<style scoped>\n",
       "    .dataframe tbody tr th:only-of-type {\n",
       "        vertical-align: middle;\n",
       "    }\n",
       "\n",
       "    .dataframe tbody tr th {\n",
       "        vertical-align: top;\n",
       "    }\n",
       "\n",
       "    .dataframe thead th {\n",
       "        text-align: right;\n",
       "    }\n",
       "</style>\n",
       "<table border=\"1\" class=\"dataframe\">\n",
       "  <thead>\n",
       "    <tr style=\"text-align: right;\">\n",
       "      <th></th>\n",
       "      <th>id</th>\n",
       "      <th>previously_insured</th>\n",
       "      <th>annual_premium</th>\n",
       "      <th>vintage</th>\n",
       "      <th>gender</th>\n",
       "      <th>age</th>\n",
       "      <th>region_code</th>\n",
       "      <th>policy_sales_channel</th>\n",
       "      <th>driving_license</th>\n",
       "      <th>vehicle_damage</th>\n",
       "      <th>vehicle_age_below_1_year</th>\n",
       "      <th>vehicle_age_between_1_2_years</th>\n",
       "      <th>vehicle_age_over_2_years</th>\n",
       "    </tr>\n",
       "  </thead>\n",
       "  <tbody>\n",
       "    <tr>\n",
       "      <th>377956</th>\n",
       "      <td>377957</td>\n",
       "      <td>0</td>\n",
       "      <td>0.991907</td>\n",
       "      <td>0.906574</td>\n",
       "      <td>0.138073</td>\n",
       "      <td>0.723077</td>\n",
       "      <td>0.123157</td>\n",
       "      <td>0.209435</td>\n",
       "      <td>1</td>\n",
       "      <td>1</td>\n",
       "      <td>0</td>\n",
       "      <td>0</td>\n",
       "      <td>1</td>\n",
       "    </tr>\n",
       "    <tr>\n",
       "      <th>32389</th>\n",
       "      <td>32390</td>\n",
       "      <td>0</td>\n",
       "      <td>3.542928</td>\n",
       "      <td>0.851211</td>\n",
       "      <td>0.138073</td>\n",
       "      <td>0.569231</td>\n",
       "      <td>0.186238</td>\n",
       "      <td>0.209435</td>\n",
       "      <td>1</td>\n",
       "      <td>1</td>\n",
       "      <td>0</td>\n",
       "      <td>0</td>\n",
       "      <td>1</td>\n",
       "    </tr>\n",
       "    <tr>\n",
       "      <th>351717</th>\n",
       "      <td>351718</td>\n",
       "      <td>0</td>\n",
       "      <td>-0.125994</td>\n",
       "      <td>0.332180</td>\n",
       "      <td>0.138073</td>\n",
       "      <td>0.200000</td>\n",
       "      <td>0.062155</td>\n",
       "      <td>0.353665</td>\n",
       "      <td>1</td>\n",
       "      <td>1</td>\n",
       "      <td>1</td>\n",
       "      <td>0</td>\n",
       "      <td>0</td>\n",
       "    </tr>\n",
       "    <tr>\n",
       "      <th>376989</th>\n",
       "      <td>376990</td>\n",
       "      <td>0</td>\n",
       "      <td>0.416990</td>\n",
       "      <td>0.775087</td>\n",
       "      <td>0.138073</td>\n",
       "      <td>0.353846</td>\n",
       "      <td>0.128858</td>\n",
       "      <td>0.015688</td>\n",
       "      <td>1</td>\n",
       "      <td>1</td>\n",
       "      <td>0</td>\n",
       "      <td>1</td>\n",
       "      <td>0</td>\n",
       "    </tr>\n",
       "    <tr>\n",
       "      <th>4378</th>\n",
       "      <td>4379</td>\n",
       "      <td>0</td>\n",
       "      <td>2.400686</td>\n",
       "      <td>0.612457</td>\n",
       "      <td>0.138073</td>\n",
       "      <td>0.400000</td>\n",
       "      <td>0.186238</td>\n",
       "      <td>0.193996</td>\n",
       "      <td>1</td>\n",
       "      <td>1</td>\n",
       "      <td>0</td>\n",
       "      <td>1</td>\n",
       "      <td>0</td>\n",
       "    </tr>\n",
       "  </tbody>\n",
       "</table>\n",
       "</div>"
      ],
      "text/plain": [
       "            id  previously_insured  annual_premium   vintage    gender  \\\n",
       "377956  377957                   0        0.991907  0.906574  0.138073   \n",
       "32389    32390                   0        3.542928  0.851211  0.138073   \n",
       "351717  351718                   0       -0.125994  0.332180  0.138073   \n",
       "376989  376990                   0        0.416990  0.775087  0.138073   \n",
       "4378      4379                   0        2.400686  0.612457  0.138073   \n",
       "\n",
       "             age  region_code  policy_sales_channel  driving_license  \\\n",
       "377956  0.723077     0.123157              0.209435                1   \n",
       "32389   0.569231     0.186238              0.209435                1   \n",
       "351717  0.200000     0.062155              0.353665                1   \n",
       "376989  0.353846     0.128858              0.015688                1   \n",
       "4378    0.400000     0.186238              0.193996                1   \n",
       "\n",
       "        vehicle_damage  vehicle_age_below_1_year  \\\n",
       "377956               1                         0   \n",
       "32389                1                         0   \n",
       "351717               1                         1   \n",
       "376989               1                         0   \n",
       "4378                 1                         0   \n",
       "\n",
       "        vehicle_age_between_1_2_years  vehicle_age_over_2_years  \n",
       "377956                              0                         1  \n",
       "32389                               0                         1  \n",
       "351717                              0                         0  \n",
       "376989                              1                         0  \n",
       "4378                                1                         0  "
      ]
     },
     "execution_count": 68,
     "metadata": {},
     "output_type": "execute_result"
    }
   ],
   "source": [
    "print('x_validation')\n",
    "print(x_validation.shape)\n",
    "x_validation.head()"
   ]
  },
  {
   "cell_type": "code",
   "execution_count": 69,
   "metadata": {
    "ExecuteTime": {
     "end_time": "2022-08-02T18:15:01.744581Z",
     "start_time": "2022-08-02T18:15:01.702578Z"
    },
    "cell_style": "split",
    "hide_input": true
   },
   "outputs": [
    {
     "name": "stdout",
     "output_type": "stream",
     "text": [
      "y_train\n",
      "(304887,)\n"
     ]
    },
    {
     "data": {
      "text/plain": [
       "108504    1\n",
       "25605     0\n",
       "32195     0\n",
       "47859     0\n",
       "361069    0\n",
       "Name: response, dtype: int64"
      ]
     },
     "execution_count": 69,
     "metadata": {},
     "output_type": "execute_result"
    }
   ],
   "source": [
    "print('y_train')\n",
    "print(y_train.shape)\n",
    "y_train.head()"
   ]
  },
  {
   "cell_type": "code",
   "execution_count": 70,
   "metadata": {
    "ExecuteTime": {
     "end_time": "2022-08-02T18:15:11.026112Z",
     "start_time": "2022-08-02T18:15:10.983109Z"
    },
    "cell_style": "split",
    "hide_input": true
   },
   "outputs": [
    {
     "name": "stdout",
     "output_type": "stream",
     "text": [
      "y_validation\n",
      "(76222,)\n"
     ]
    },
    {
     "data": {
      "text/plain": [
       "377956    0\n",
       "32389     0\n",
       "351717    0\n",
       "376989    1\n",
       "4378      1\n",
       "Name: response, dtype: int64"
      ]
     },
     "execution_count": 70,
     "metadata": {},
     "output_type": "execute_result"
    }
   ],
   "source": [
    "print('y_validation')\n",
    "print(y_validation.shape)\n",
    "y_validation.head()"
   ]
  },
  {
   "cell_type": "markdown",
   "metadata": {
    "heading_collapsed": true
   },
   "source": [
    "## **5.1 Standardization**"
   ]
  },
  {
   "cell_type": "markdown",
   "metadata": {
    "hidden": true
   },
   "source": [
    "    subtrair a média e dividir pelo desvio padrão"
   ]
  },
  {
   "cell_type": "markdown",
   "metadata": {
    "heading_collapsed": true,
    "hidden": true
   },
   "source": [
    "### **annual_premium**"
   ]
  },
  {
   "cell_type": "code",
   "execution_count": 4,
   "metadata": {
    "ExecuteTime": {
     "end_time": "2022-08-02T17:34:12.362484Z",
     "start_time": "2022-08-02T17:34:06.262135Z"
    },
    "hidden": true
   },
   "outputs": [
    {
     "data": {
      "image/png": "[encoded data removed]",
      "text/plain": [
       "<Figure size 432x288 with 1 Axes>"
      ]
     },
     "metadata": {
      "needs_background": "light"
     },
     "output_type": "display_data"
    }
   ],
   "source": [
    "# possue uma distribuição normal sem os outliers\n",
    "# o correto seria tratar os outliers para fazer a standardization, mas por faltar clareza e ser o primeiro ciclo, deixar assim\n",
    "\n",
    "aux=df4[(df4['annual_premium'] > 10000) & (df4['annual_premium'] < 80000)]\n",
    "aux00=aux.loc[df4['response']==0,'annual_premium']        \n",
    "sns.histplot(aux00);\n"
   ]
  },
  {
   "cell_type": "code",
   "execution_count": 5,
   "metadata": {
    "ExecuteTime": {
     "end_time": "2022-08-02T17:34:12.588497Z",
     "start_time": "2022-08-02T17:34:12.371485Z"
    },
    "hidden": true
   },
   "outputs": [],
   "source": [
    "ss=pp.StandardScaler()\n",
    "df5['annual_premium'] = ss.fit_transform(df5[['annual_premium']].values) # duplo colchetes p/ pegar o array -sempre passar como array nos encoders"
   ]
  },
  {
   "cell_type": "code",
   "execution_count": 6,
   "metadata": {
    "ExecuteTime": {
     "end_time": "2022-08-02T17:34:12.684503Z",
     "start_time": "2022-08-02T17:34:12.597498Z"
    },
    "hidden": true
   },
   "outputs": [
    {
     "data": {
      "text/plain": [
       "array([[-1.61990947],\n",
       "       [ 0.16824533],\n",
       "       [ 0.47494511],\n",
       "       ...,\n",
       "       [-0.29371688],\n",
       "       [-0.28258945],\n",
       "       [ 0.09371473]])"
      ]
     },
     "execution_count": 6,
     "metadata": {},
     "output_type": "execute_result"
    }
   ],
   "source": [
    "df5['annual_premium'].head()\n",
    "df5[['annual_premium']].head()\n",
    "df5[['annual_premium']].values"
   ]
  },
  {
   "cell_type": "markdown",
   "metadata": {
    "heading_collapsed": true
   },
   "source": [
    "## **5.2 Rescaling**"
   ]
  },
  {
   "cell_type": "markdown",
   "metadata": {
    "hidden": true
   },
   "source": [
    "### **age**"
   ]
  },
  {
   "cell_type": "code",
   "execution_count": 7,
   "metadata": {
    "ExecuteTime": {
     "end_time": "2022-08-02T17:34:17.076754Z",
     "start_time": "2022-08-02T17:34:12.711504Z"
    },
    "hidden": true
   },
   "outputs": [
    {
     "data": {
      "text/plain": [
       "<AxesSubplot:xlabel='age', ylabel='Count'>"
      ]
     },
     "execution_count": 7,
     "metadata": {},
     "output_type": "execute_result"
    },
    {
     "data": {
      "image/png": "[encoded data removed]",
      "text/plain": [
       "<Figure size 432x288 with 1 Axes>"
      ]
     },
     "metadata": {
      "needs_background": "light"
     },
     "output_type": "display_data"
    }
   ],
   "source": [
    "sns.histplot(df5['age']) # plota a predominância ( 25 mil exemplos [não interessados])\n",
    "\n",
    "# não é próxima de uma normal, por isso rescaling"
   ]
  },
  {
   "cell_type": "code",
   "execution_count": 8,
   "metadata": {
    "ExecuteTime": {
     "end_time": "2022-08-02T17:34:17.216762Z",
     "start_time": "2022-08-02T17:34:17.085754Z"
    },
    "hidden": true
   },
   "outputs": [],
   "source": [
    "mms_age=pp.MinMaxScaler()\n",
    "\n",
    "df5['age']=mms_age.fit_transform(df5[['age']].values)"
   ]
  },
  {
   "cell_type": "code",
   "execution_count": 9,
   "metadata": {
    "ExecuteTime": {
     "end_time": "2022-08-02T17:34:17.266765Z",
     "start_time": "2022-08-02T17:34:17.232763Z"
    },
    "hidden": true
   },
   "outputs": [
    {
     "data": {
      "text/plain": [
       "108504    0.492308\n",
       "25605     0.076923\n",
       "32195     0.507692\n",
       "47859     0.707692\n",
       "361069    0.030769\n",
       "Name: age, dtype: float64"
      ]
     },
     "execution_count": 9,
     "metadata": {},
     "output_type": "execute_result"
    }
   ],
   "source": [
    "df5['age'].head()"
   ]
  },
  {
   "cell_type": "markdown",
   "metadata": {
    "heading_collapsed": true,
    "hidden": true
   },
   "source": [
    "### **vintage**"
   ]
  },
  {
   "cell_type": "code",
   "execution_count": 10,
   "metadata": {
    "ExecuteTime": {
     "end_time": "2022-08-02T17:34:17.298767Z",
     "start_time": "2022-08-02T17:34:17.278765Z"
    },
    "hidden": true
   },
   "outputs": [],
   "source": [
    "# não possue distribuição "
   ]
  },
  {
   "cell_type": "code",
   "execution_count": 11,
   "metadata": {
    "ExecuteTime": {
     "end_time": "2022-08-02T17:34:17.449775Z",
     "start_time": "2022-08-02T17:34:17.308767Z"
    },
    "hidden": true
   },
   "outputs": [],
   "source": [
    "mms_vintage=pp.MinMaxScaler()\n",
    "df5['vintage']=mms_vintage.fit_transform(df5[['vintage']].values)"
   ]
  },
  {
   "cell_type": "code",
   "execution_count": 12,
   "metadata": {
    "ExecuteTime": {
     "end_time": "2022-08-02T17:34:17.504778Z",
     "start_time": "2022-08-02T17:34:17.459776Z"
    },
    "hidden": true
   },
   "outputs": [
    {
     "data": {
      "text/plain": [
       "108504    0.737024\n",
       "25605     0.103806\n",
       "32195     0.685121\n",
       "47859     0.525952\n",
       "361069    0.916955\n",
       "Name: vintage, dtype: float64"
      ]
     },
     "execution_count": 12,
     "metadata": {},
     "output_type": "execute_result"
    }
   ],
   "source": [
    "df5['vintage'].head()"
   ]
  },
  {
   "cell_type": "markdown",
   "metadata": {
    "heading_collapsed": true
   },
   "source": [
    "## **5.3 Encoder**"
   ]
  },
  {
   "cell_type": "markdown",
   "metadata": {
    "heading_collapsed": true,
    "hidden": true
   },
   "source": [
    "### **gender**"
   ]
  },
  {
   "cell_type": "code",
   "execution_count": 13,
   "metadata": {
    "ExecuteTime": {
     "end_time": "2022-08-02T17:34:17.791795Z",
     "start_time": "2022-08-02T17:34:17.511779Z"
    },
    "hidden": true
   },
   "outputs": [],
   "source": [
    "# one hot encoding/target encoding\n",
    "\n",
    "target_encode_gender=df5.groupby('gender')['response'].mean()\n",
    "df5.loc[:,'gender']=df5['gender'].map(target_encode_gender)"
   ]
  },
  {
   "cell_type": "markdown",
   "metadata": {
    "heading_collapsed": true,
    "hidden": true
   },
   "source": [
    "### **region_code**"
   ]
  },
  {
   "cell_type": "code",
   "execution_count": 14,
   "metadata": {
    "ExecuteTime": {
     "end_time": "2022-08-02T17:34:18.074811Z",
     "start_time": "2022-08-02T17:34:17.798795Z"
    },
    "hidden": true
   },
   "outputs": [],
   "source": [
    "#  frequency encoding / target encoding / weighted target encoding\n",
    "\n",
    "# para variáveis categórias com muitos níveis (acima de 6 ou 7) não usar one hot encoding para não aumentar muito a dimensionalidade\n",
    "# dica do meigarom é usar target encoding\n",
    "# target encoding = mean encoding\n",
    "\n",
    "target_encode_region_code=df5.groupby('region_code')['response'].mean()\n",
    "df5.loc[:,'region_code']=df5['region_code'].map(target_encode_region_code)  # mapear a representatividade em termos de frequência"
   ]
  },
  {
   "cell_type": "code",
   "execution_count": 15,
   "metadata": {
    "ExecuteTime": {
     "end_time": "2022-08-02T17:34:18.131814Z",
     "start_time": "2022-08-02T17:34:18.088812Z"
    },
    "hidden": true
   },
   "outputs": [
    {
     "data": {
      "text/plain": [
       "108504    0.101938\n",
       "25605     0.095761\n",
       "32195     0.121289\n",
       "47859     0.079503\n",
       "361069    0.059606\n",
       "Name: region_code, dtype: float64"
      ]
     },
     "execution_count": 15,
     "metadata": {},
     "output_type": "execute_result"
    }
   ],
   "source": [
    "df5['region_code'].head()"
   ]
  },
  {
   "cell_type": "markdown",
   "metadata": {
    "heading_collapsed": true,
    "hidden": true
   },
   "source": [
    "### **vehicle_age**"
   ]
  },
  {
   "cell_type": "code",
   "execution_count": 16,
   "metadata": {
    "ExecuteTime": {
     "end_time": "2022-08-02T17:34:18.571839Z",
     "start_time": "2022-08-02T17:34:18.173817Z"
    },
    "hidden": true
   },
   "outputs": [],
   "source": [
    "# pode usar order encoding/one hot encoding/frequency encoding, correndo o risco de desconsiderar carros com 2 meses ou 15 meses por exemplo\n",
    "# get dummies do pandas = one hot encoding, dummies é melhor por já entregar as colunas mapeadas\n",
    "\n",
    "df5=pd.get_dummies(df5,prefix='vehicle_age',columns=['vehicle_age'])"
   ]
  },
  {
   "cell_type": "code",
   "execution_count": 17,
   "metadata": {
    "ExecuteTime": {
     "end_time": "2022-08-02T17:34:18.711847Z",
     "start_time": "2022-08-02T17:34:18.583840Z"
    },
    "hidden": true
   },
   "outputs": [
    {
     "data": {
      "text/html": [
       "<div>\n",
       "<style scoped>\n",
       "    .dataframe tbody tr th:only-of-type {\n",
       "        vertical-align: middle;\n",
       "    }\n",
       "\n",
       "    .dataframe tbody tr th {\n",
       "        vertical-align: top;\n",
       "    }\n",
       "\n",
       "    .dataframe thead th {\n",
       "        text-align: right;\n",
       "    }\n",
       "</style>\n",
       "<table border=\"1\" class=\"dataframe\">\n",
       "  <thead>\n",
       "    <tr style=\"text-align: right;\">\n",
       "      <th></th>\n",
       "      <th>id</th>\n",
       "      <th>previously_insured</th>\n",
       "      <th>annual_premium</th>\n",
       "      <th>vintage</th>\n",
       "      <th>gender</th>\n",
       "      <th>age</th>\n",
       "      <th>region_code</th>\n",
       "      <th>policy_sales_channel</th>\n",
       "      <th>driving_license</th>\n",
       "      <th>vehicle_damage</th>\n",
       "      <th>response</th>\n",
       "      <th>vehicle_age_below_1_year</th>\n",
       "      <th>vehicle_age_between_1_2_years</th>\n",
       "      <th>vehicle_age_over_2_years</th>\n",
       "    </tr>\n",
       "  </thead>\n",
       "  <tbody>\n",
       "    <tr>\n",
       "      <th>108504</th>\n",
       "      <td>108505</td>\n",
       "      <td>0</td>\n",
       "      <td>-1.619909</td>\n",
       "      <td>0.737024</td>\n",
       "      <td>0.138073</td>\n",
       "      <td>0.492308</td>\n",
       "      <td>0.101938</td>\n",
       "      <td>26</td>\n",
       "      <td>1</td>\n",
       "      <td>1</td>\n",
       "      <td>1</td>\n",
       "      <td>0</td>\n",
       "      <td>1</td>\n",
       "      <td>0</td>\n",
       "    </tr>\n",
       "    <tr>\n",
       "      <th>25605</th>\n",
       "      <td>25606</td>\n",
       "      <td>1</td>\n",
       "      <td>0.168245</td>\n",
       "      <td>0.103806</td>\n",
       "      <td>0.103680</td>\n",
       "      <td>0.076923</td>\n",
       "      <td>0.095761</td>\n",
       "      <td>26</td>\n",
       "      <td>1</td>\n",
       "      <td>0</td>\n",
       "      <td>0</td>\n",
       "      <td>1</td>\n",
       "      <td>0</td>\n",
       "      <td>0</td>\n",
       "    </tr>\n",
       "    <tr>\n",
       "      <th>32195</th>\n",
       "      <td>32196</td>\n",
       "      <td>1</td>\n",
       "      <td>0.474945</td>\n",
       "      <td>0.685121</td>\n",
       "      <td>0.103680</td>\n",
       "      <td>0.507692</td>\n",
       "      <td>0.121289</td>\n",
       "      <td>124</td>\n",
       "      <td>1</td>\n",
       "      <td>0</td>\n",
       "      <td>0</td>\n",
       "      <td>0</td>\n",
       "      <td>1</td>\n",
       "      <td>0</td>\n",
       "    </tr>\n",
       "    <tr>\n",
       "      <th>47859</th>\n",
       "      <td>47860</td>\n",
       "      <td>0</td>\n",
       "      <td>0.621804</td>\n",
       "      <td>0.525952</td>\n",
       "      <td>0.103680</td>\n",
       "      <td>0.707692</td>\n",
       "      <td>0.079503</td>\n",
       "      <td>26</td>\n",
       "      <td>1</td>\n",
       "      <td>1</td>\n",
       "      <td>0</td>\n",
       "      <td>0</td>\n",
       "      <td>1</td>\n",
       "      <td>0</td>\n",
       "    </tr>\n",
       "    <tr>\n",
       "      <th>361069</th>\n",
       "      <td>361070</td>\n",
       "      <td>1</td>\n",
       "      <td>-0.145003</td>\n",
       "      <td>0.916955</td>\n",
       "      <td>0.138073</td>\n",
       "      <td>0.030769</td>\n",
       "      <td>0.059606</td>\n",
       "      <td>152</td>\n",
       "      <td>1</td>\n",
       "      <td>0</td>\n",
       "      <td>0</td>\n",
       "      <td>1</td>\n",
       "      <td>0</td>\n",
       "      <td>0</td>\n",
       "    </tr>\n",
       "  </tbody>\n",
       "</table>\n",
       "</div>"
      ],
      "text/plain": [
       "            id  previously_insured  annual_premium   vintage    gender  \\\n",
       "108504  108505                   0       -1.619909  0.737024  0.138073   \n",
       "25605    25606                   1        0.168245  0.103806  0.103680   \n",
       "32195    32196                   1        0.474945  0.685121  0.103680   \n",
       "47859    47860                   0        0.621804  0.525952  0.103680   \n",
       "361069  361070                   1       -0.145003  0.916955  0.138073   \n",
       "\n",
       "             age  region_code  policy_sales_channel  driving_license  \\\n",
       "108504  0.492308     0.101938                    26                1   \n",
       "25605   0.076923     0.095761                    26                1   \n",
       "32195   0.507692     0.121289                   124                1   \n",
       "47859   0.707692     0.079503                    26                1   \n",
       "361069  0.030769     0.059606                   152                1   \n",
       "\n",
       "        vehicle_damage  response  vehicle_age_below_1_year  \\\n",
       "108504               1         1                         0   \n",
       "25605                0         0                         1   \n",
       "32195                0         0                         0   \n",
       "47859                1         0                         0   \n",
       "361069               0         0                         1   \n",
       "\n",
       "        vehicle_age_between_1_2_years  vehicle_age_over_2_years  \n",
       "108504                              1                         0  \n",
       "25605                               0                         0  \n",
       "32195                               1                         0  \n",
       "47859                               1                         0  \n",
       "361069                              0                         0  "
      ]
     },
     "execution_count": 17,
     "metadata": {},
     "output_type": "execute_result"
    }
   ],
   "source": [
    "df5.head()"
   ]
  },
  {
   "cell_type": "markdown",
   "metadata": {
    "heading_collapsed": true,
    "hidden": true
   },
   "source": [
    "### **policy_sales_channel**"
   ]
  },
  {
   "cell_type": "code",
   "execution_count": 18,
   "metadata": {
    "ExecuteTime": {
     "end_time": "2022-08-02T17:34:18.782851Z",
     "start_time": "2022-08-02T17:34:18.719848Z"
    },
    "hidden": true
   },
   "outputs": [
    {
     "data": {
      "text/plain": [
       "policy_sales_channel\n",
       "1    875\n",
       "2      4\n",
       "3    436\n",
       "4    410\n",
       "6      3\n",
       "dtype: int64"
      ]
     },
     "execution_count": 18,
     "metadata": {},
     "output_type": "execute_result"
    }
   ],
   "source": [
    "df5.groupby('policy_sales_channel').size().head(5)   # só pra entender o .size "
   ]
  },
  {
   "cell_type": "code",
   "execution_count": 19,
   "metadata": {
    "ExecuteTime": {
     "end_time": "2022-08-02T17:34:19.003864Z",
     "start_time": "2022-08-02T17:34:18.802853Z"
    },
    "hidden": true
   },
   "outputs": [],
   "source": [
    "# target encoding/frequency encoding\n",
    "\n",
    "fe_policy_sales_channel=df5.groupby('policy_sales_channel').size()/len(df5)  # (quantos exemplos por agrupamento e dividir pelo dataset inteiro p/atribuir o peso dessa variávael\n",
    "# em relação à base inteira)\n",
    "df5.loc[:,'policy_sales_channel']=df5['policy_sales_channel'].map(fe_policy_sales_channel)"
   ]
  },
  {
   "cell_type": "code",
   "execution_count": 20,
   "metadata": {
    "ExecuteTime": {
     "end_time": "2022-08-02T17:34:19.082869Z",
     "start_time": "2022-08-02T17:34:19.034866Z"
    },
    "hidden": true
   },
   "outputs": [
    {
     "data": {
      "text/plain": [
       "108504    0.209435\n",
       "25605     0.209435\n",
       "32195     0.193996\n",
       "47859     0.209435\n",
       "361069    0.353665\n",
       "Name: policy_sales_channel, dtype: float64"
      ]
     },
     "execution_count": 20,
     "metadata": {},
     "output_type": "execute_result"
    }
   ],
   "source": [
    "df5['policy_sales_channel'].head(5)"
   ]
  },
  {
   "cell_type": "markdown",
   "metadata": {
    "heading_collapsed": true,
    "hidden": true
   },
   "source": [
    "### **driving_license** *"
   ]
  },
  {
   "cell_type": "code",
   "execution_count": 21,
   "metadata": {
    "ExecuteTime": {
     "end_time": "2022-08-02T17:34:19.128871Z",
     "start_time": "2022-08-02T17:34:19.112870Z"
    },
    "hidden": true
   },
   "outputs": [],
   "source": [
    "# one hot encoding / frequency encoding / target encoding / weighted target encoding\n",
    "\n",
    "# já está encodado como label encoding = 0 e 1"
   ]
  },
  {
   "cell_type": "markdown",
   "metadata": {
    "heading_collapsed": true,
    "hidden": true
   },
   "source": [
    "### **previously_insured** *"
   ]
  },
  {
   "cell_type": "code",
   "execution_count": 22,
   "metadata": {
    "ExecuteTime": {
     "end_time": "2022-08-02T17:34:19.176874Z",
     "start_time": "2022-08-02T17:34:19.137872Z"
    },
    "hidden": true
   },
   "outputs": [],
   "source": [
    "# já está encodado como label encoding = 0 e 1"
   ]
  },
  {
   "cell_type": "markdown",
   "metadata": {
    "heading_collapsed": true,
    "hidden": true
   },
   "source": [
    "### **vehicle_damage** *"
   ]
  },
  {
   "cell_type": "markdown",
   "metadata": {
    "heading_collapsed": true
   },
   "source": [
    "## **5.4 Validation(teste) preparation**"
   ]
  },
  {
   "cell_type": "markdown",
   "metadata": {
    "hidden": true
   },
   "source": [
    "    pegando os encoders do treino e colocando para a validação pra ficar igual\n",
    "   \n",
    "    pode ser feito depois, será feito agora só pra ficar pronto\n",
    "   "
   ]
  },
  {
   "cell_type": "code",
   "execution_count": 23,
   "metadata": {
    "ExecuteTime": {
     "end_time": "2022-08-02T17:34:19.763908Z",
     "start_time": "2022-08-02T17:34:19.184874Z"
    },
    "hidden": true
   },
   "outputs": [
    {
     "name": "stderr",
     "output_type": "stream",
     "text": [
      "c:\\users\\caixa\\appdata\\local\\programs\\python\\python36\\lib\\site-packages\\pandas\\core\\indexing.py:1745: SettingWithCopyWarning: \n",
      "A value is trying to be set on a copy of a slice from a DataFrame.\n",
      "Try using .loc[row_indexer,col_indexer] = value instead\n",
      "\n",
      "See the caveats in the documentation: https://pandas.pydata.org/pandas-docs/stable/user_guide/indexing.html#returning-a-view-versus-a-copy\n",
      "  isetter(ilocs[0], value)\n",
      "c:\\users\\caixa\\appdata\\local\\programs\\python\\python36\\lib\\site-packages\\pandas\\core\\indexing.py:1736: SettingWithCopyWarning: \n",
      "A value is trying to be set on a copy of a slice from a DataFrame.\n",
      "Try using .loc[row_indexer,col_indexer] = value instead\n",
      "\n",
      "See the caveats in the documentation: https://pandas.pydata.org/pandas-docs/stable/user_guide/indexing.html#returning-a-view-versus-a-copy\n",
      "  isetter(loc, value[:, i].tolist())\n",
      "c:\\users\\caixa\\appdata\\local\\programs\\python\\python36\\lib\\site-packages\\pandas\\core\\indexing.py:1745: SettingWithCopyWarning: \n",
      "A value is trying to be set on a copy of a slice from a DataFrame.\n",
      "Try using .loc[row_indexer,col_indexer] = value instead\n",
      "\n",
      "See the caveats in the documentation: https://pandas.pydata.org/pandas-docs/stable/user_guide/indexing.html#returning-a-view-versus-a-copy\n",
      "  isetter(ilocs[0], value)\n"
     ]
    }
   ],
   "source": [
    "# gender\n",
    "x_validation.loc[:,'gender']=x_validation.loc[:,'gender'].map(target_encode_gender)\n",
    "\n",
    "# age\n",
    "x_validation.loc[:,'age']=mms_age.transform(x_validation[['age']].values)\n",
    "\n",
    "# region_code\n",
    "x_validation.loc[:,'region_code']=x_validation.loc[:,'region_code'].map(target_encode_region_code) \n",
    "\n",
    "# vehicle_age\n",
    "x_validation=pd.get_dummies(x_validation,prefix='vehicle_age',columns=['vehicle_age'])\n",
    "\n",
    "# annual_premium\n",
    "x_validation.loc[:,'annual_premium']=ss.transform(x_validation[['annual_premium']].values)\n",
    "\n",
    "# policy_sales_channel\n",
    "x_validation.loc[:,'policy_sales_channel']=x_validation['policy_sales_channel'].map(fe_policy_sales_channel)\n",
    "\n",
    "# vintage\n",
    "x_validation.loc[:,'vintage']=mms_vintage.transform(x_validation[['vintage']].values)\n",
    "\n",
    "# fillna\n",
    "x_validation=x_validation.fillna(0) # tem regiões (region_code) no teste q n estão no treino"
   ]
  },
  {
   "cell_type": "markdown",
   "metadata": {},
   "source": [
    "# **Passo 6 Feature Selection**"
   ]
  },
  {
   "cell_type": "code",
   "execution_count": 24,
   "metadata": {
    "ExecuteTime": {
     "end_time": "2022-08-02T17:34:19.870914Z",
     "start_time": "2022-08-02T17:34:19.803910Z"
    }
   },
   "outputs": [],
   "source": [
    "df6=df5.copy()"
   ]
  },
  {
   "cell_type": "markdown",
   "metadata": {
    "heading_collapsed": true
   },
   "source": [
    "## **6.1 Importância das features**"
   ]
  },
  {
   "cell_type": "code",
   "execution_count": 25,
   "metadata": {
    "ExecuteTime": {
     "end_time": "2022-08-02T17:34:19.931917Z",
     "start_time": "2022-08-02T17:34:19.915916Z"
    },
    "hidden": true
   },
   "outputs": [],
   "source": [
    "# # model definition\n",
    "# forest=en.ExtraTreesClassifier(n_estimators=250,random_state=0,n_jobs=-1) \n",
    "\n",
    "# # recebe os dados de treino e a variável resposta\n",
    "# # data preparation\n",
    "# x_train_n=df5.drop(['id','response'],axis=1)\n",
    "# y_train_n=y_train.values\n",
    "# forest.fit(x_train_n,y_train_n)\n"
   ]
  },
  {
   "cell_type": "code",
   "execution_count": 26,
   "metadata": {
    "ExecuteTime": {
     "end_time": "2022-08-02T17:34:19.952918Z",
     "start_time": "2022-08-02T17:34:19.941918Z"
    },
    "hidden": true
   },
   "outputs": [],
   "source": [
    "# importances=forest.feature_importances_\n",
    "# std=np.std([tree.feature_importances_ for tree in forest.estimators_],axis=0)\n",
    "# indices=np.argsort(importances)[::-1]  # índice é a importância das árvores ornada pelo maior valor\n",
    "\n",
    "# # print the feature ranking\n",
    "# print('Feature ranking')\n",
    "# df=pd.DataFrame()\n",
    "# for i, j in zip(x_train_n,forest.feature_importances_): # zip é pra arrumar as colunas com os valores\n",
    "#     aux=pd.DataFrame({'feature':i,'importance':j},index=[0])\n",
    "#     df=pd.concat([df,aux],axis=0)\n",
    "    \n",
    "# print(df.sort_values('importance',ascending=False))\n",
    "\n",
    "# # plot the imputiry-based feature importances of the forest\n",
    "# plt.figure()\n",
    "# plt.title('feature importances')\n",
    "# plt.bar(range(x_train_n.shape[1]),importances[indices],color='r',yerr=std[indices],align='center')\n",
    "# plt.xticks(range(x_train_n.shape[1]),indices)\n",
    "# plt.xlim([-1,x_train_n.shape[1]])\n",
    "# plt.show()"
   ]
  },
  {
   "cell_type": "markdown",
   "metadata": {},
   "source": [
    "# **Passo 7 Machine learning**"
   ]
  },
  {
   "cell_type": "code",
   "execution_count": 27,
   "metadata": {
    "ExecuteTime": {
     "end_time": "2022-08-02T17:34:20.040923Z",
     "start_time": "2022-08-02T17:34:19.961919Z"
    }
   },
   "outputs": [],
   "source": [
    "df7=df6.copy()"
   ]
  },
  {
   "cell_type": "code",
   "execution_count": 28,
   "metadata": {
    "ExecuteTime": {
     "end_time": "2022-08-02T17:34:20.312939Z",
     "start_time": "2022-08-02T17:34:20.063925Z"
    },
    "cell_style": "center"
   },
   "outputs": [],
   "source": [
    "# foi escolhiadas as variáveis até a importância de 0.5 (decisão arbitrária)\n",
    "\n",
    "cols_selected=['annual_premium','vintage','age','region_code','vehicle_damage','previously_insured','policy_sales_channel']\n",
    "\n",
    "x_train=df5[cols_selected]\n",
    "x_val=x_validation[cols_selected]\n",
    "y_val=y_validation.copy()"
   ]
  },
  {
   "cell_type": "code",
   "execution_count": 73,
   "metadata": {
    "ExecuteTime": {
     "end_time": "2022-08-02T18:17:24.969773Z",
     "start_time": "2022-08-02T18:17:24.883768Z"
    },
    "cell_style": "split",
    "hide_input": true,
    "scrolled": false
   },
   "outputs": [
    {
     "name": "stdout",
     "output_type": "stream",
     "text": [
      "x_train\n",
      "(304887, 7)\n"
     ]
    },
    {
     "data": {
      "text/html": [
       "<div>\n",
       "<style scoped>\n",
       "    .dataframe tbody tr th:only-of-type {\n",
       "        vertical-align: middle;\n",
       "    }\n",
       "\n",
       "    .dataframe tbody tr th {\n",
       "        vertical-align: top;\n",
       "    }\n",
       "\n",
       "    .dataframe thead th {\n",
       "        text-align: right;\n",
       "    }\n",
       "</style>\n",
       "<table border=\"1\" class=\"dataframe\">\n",
       "  <thead>\n",
       "    <tr style=\"text-align: right;\">\n",
       "      <th></th>\n",
       "      <th>annual_premium</th>\n",
       "      <th>vintage</th>\n",
       "      <th>age</th>\n",
       "      <th>region_code</th>\n",
       "      <th>vehicle_damage</th>\n",
       "      <th>previously_insured</th>\n",
       "      <th>policy_sales_channel</th>\n",
       "    </tr>\n",
       "  </thead>\n",
       "  <tbody>\n",
       "    <tr>\n",
       "      <th>108504</th>\n",
       "      <td>-1.619909</td>\n",
       "      <td>0.737024</td>\n",
       "      <td>0.492308</td>\n",
       "      <td>0.101938</td>\n",
       "      <td>1</td>\n",
       "      <td>0</td>\n",
       "      <td>0.209435</td>\n",
       "    </tr>\n",
       "    <tr>\n",
       "      <th>25605</th>\n",
       "      <td>0.168245</td>\n",
       "      <td>0.103806</td>\n",
       "      <td>0.076923</td>\n",
       "      <td>0.095761</td>\n",
       "      <td>0</td>\n",
       "      <td>1</td>\n",
       "      <td>0.209435</td>\n",
       "    </tr>\n",
       "    <tr>\n",
       "      <th>32195</th>\n",
       "      <td>0.474945</td>\n",
       "      <td>0.685121</td>\n",
       "      <td>0.507692</td>\n",
       "      <td>0.121289</td>\n",
       "      <td>0</td>\n",
       "      <td>1</td>\n",
       "      <td>0.193996</td>\n",
       "    </tr>\n",
       "    <tr>\n",
       "      <th>47859</th>\n",
       "      <td>0.621804</td>\n",
       "      <td>0.525952</td>\n",
       "      <td>0.707692</td>\n",
       "      <td>0.079503</td>\n",
       "      <td>1</td>\n",
       "      <td>0</td>\n",
       "      <td>0.209435</td>\n",
       "    </tr>\n",
       "    <tr>\n",
       "      <th>361069</th>\n",
       "      <td>-0.145003</td>\n",
       "      <td>0.916955</td>\n",
       "      <td>0.030769</td>\n",
       "      <td>0.059606</td>\n",
       "      <td>0</td>\n",
       "      <td>1</td>\n",
       "      <td>0.353665</td>\n",
       "    </tr>\n",
       "  </tbody>\n",
       "</table>\n",
       "</div>"
      ],
      "text/plain": [
       "        annual_premium   vintage       age  region_code  vehicle_damage  \\\n",
       "108504       -1.619909  0.737024  0.492308     0.101938               1   \n",
       "25605         0.168245  0.103806  0.076923     0.095761               0   \n",
       "32195         0.474945  0.685121  0.507692     0.121289               0   \n",
       "47859         0.621804  0.525952  0.707692     0.079503               1   \n",
       "361069       -0.145003  0.916955  0.030769     0.059606               0   \n",
       "\n",
       "        previously_insured  policy_sales_channel  \n",
       "108504                   0              0.209435  \n",
       "25605                    1              0.209435  \n",
       "32195                    1              0.193996  \n",
       "47859                    0              0.209435  \n",
       "361069                   1              0.353665  "
      ]
     },
     "execution_count": 73,
     "metadata": {},
     "output_type": "execute_result"
    }
   ],
   "source": [
    "print('x_train')\n",
    "print(x_train.shape)\n",
    "x_train.head()"
   ]
  },
  {
   "cell_type": "code",
   "execution_count": 75,
   "metadata": {
    "ExecuteTime": {
     "end_time": "2022-08-02T18:34:29.333363Z",
     "start_time": "2022-08-02T18:34:29.239358Z"
    },
    "cell_style": "split",
    "hide_input": true,
    "scrolled": false
   },
   "outputs": [
    {
     "name": "stdout",
     "output_type": "stream",
     "text": [
      "x_val\n",
      "(76222, 7)\n"
     ]
    },
    {
     "data": {
      "text/html": [
       "<div>\n",
       "<style scoped>\n",
       "    .dataframe tbody tr th:only-of-type {\n",
       "        vertical-align: middle;\n",
       "    }\n",
       "\n",
       "    .dataframe tbody tr th {\n",
       "        vertical-align: top;\n",
       "    }\n",
       "\n",
       "    .dataframe thead th {\n",
       "        text-align: right;\n",
       "    }\n",
       "</style>\n",
       "<table border=\"1\" class=\"dataframe\">\n",
       "  <thead>\n",
       "    <tr style=\"text-align: right;\">\n",
       "      <th></th>\n",
       "      <th>annual_premium</th>\n",
       "      <th>vintage</th>\n",
       "      <th>age</th>\n",
       "      <th>region_code</th>\n",
       "      <th>vehicle_damage</th>\n",
       "      <th>previously_insured</th>\n",
       "      <th>policy_sales_channel</th>\n",
       "    </tr>\n",
       "  </thead>\n",
       "  <tbody>\n",
       "    <tr>\n",
       "      <th>377956</th>\n",
       "      <td>0.991907</td>\n",
       "      <td>0.906574</td>\n",
       "      <td>0.723077</td>\n",
       "      <td>0.123157</td>\n",
       "      <td>1</td>\n",
       "      <td>0</td>\n",
       "      <td>0.209435</td>\n",
       "    </tr>\n",
       "    <tr>\n",
       "      <th>32389</th>\n",
       "      <td>3.542928</td>\n",
       "      <td>0.851211</td>\n",
       "      <td>0.569231</td>\n",
       "      <td>0.186238</td>\n",
       "      <td>1</td>\n",
       "      <td>0</td>\n",
       "      <td>0.209435</td>\n",
       "    </tr>\n",
       "    <tr>\n",
       "      <th>351717</th>\n",
       "      <td>-0.125994</td>\n",
       "      <td>0.332180</td>\n",
       "      <td>0.200000</td>\n",
       "      <td>0.062155</td>\n",
       "      <td>1</td>\n",
       "      <td>0</td>\n",
       "      <td>0.353665</td>\n",
       "    </tr>\n",
       "    <tr>\n",
       "      <th>376989</th>\n",
       "      <td>0.416990</td>\n",
       "      <td>0.775087</td>\n",
       "      <td>0.353846</td>\n",
       "      <td>0.128858</td>\n",
       "      <td>1</td>\n",
       "      <td>0</td>\n",
       "      <td>0.015688</td>\n",
       "    </tr>\n",
       "    <tr>\n",
       "      <th>4378</th>\n",
       "      <td>2.400686</td>\n",
       "      <td>0.612457</td>\n",
       "      <td>0.400000</td>\n",
       "      <td>0.186238</td>\n",
       "      <td>1</td>\n",
       "      <td>0</td>\n",
       "      <td>0.193996</td>\n",
       "    </tr>\n",
       "  </tbody>\n",
       "</table>\n",
       "</div>"
      ],
      "text/plain": [
       "        annual_premium   vintage       age  region_code  vehicle_damage  \\\n",
       "377956        0.991907  0.906574  0.723077     0.123157               1   \n",
       "32389         3.542928  0.851211  0.569231     0.186238               1   \n",
       "351717       -0.125994  0.332180  0.200000     0.062155               1   \n",
       "376989        0.416990  0.775087  0.353846     0.128858               1   \n",
       "4378          2.400686  0.612457  0.400000     0.186238               1   \n",
       "\n",
       "        previously_insured  policy_sales_channel  \n",
       "377956                   0              0.209435  \n",
       "32389                    0              0.209435  \n",
       "351717                   0              0.353665  \n",
       "376989                   0              0.015688  \n",
       "4378                     0              0.193996  "
      ]
     },
     "execution_count": 75,
     "metadata": {},
     "output_type": "execute_result"
    }
   ],
   "source": [
    "print('x_val')\n",
    "print(x_val.shape)\n",
    "x_val.head()"
   ]
  },
  {
   "cell_type": "code",
   "execution_count": 76,
   "metadata": {
    "ExecuteTime": {
     "end_time": "2022-08-02T18:35:35.945173Z",
     "start_time": "2022-08-02T18:35:35.902171Z"
    },
    "hide_input": true
   },
   "outputs": [
    {
     "name": "stdout",
     "output_type": "stream",
     "text": [
      "y_val\n",
      "(76222,)\n"
     ]
    },
    {
     "data": {
      "text/plain": [
       "377956    0\n",
       "32389     0\n",
       "351717    0\n",
       "376989    1\n",
       "4378      1\n",
       "Name: response, dtype: int64"
      ]
     },
     "execution_count": 76,
     "metadata": {},
     "output_type": "execute_result"
    }
   ],
   "source": [
    "print('y_val')\n",
    "print(y_val.shape)\n",
    "y_val.head()"
   ]
  },
  {
   "cell_type": "markdown",
   "metadata": {},
   "source": [
    "## **7.1 Knn**"
   ]
  },
  {
   "cell_type": "code",
   "execution_count": 29,
   "metadata": {
    "ExecuteTime": {
     "end_time": "2022-08-02T17:37:40.710401Z",
     "start_time": "2022-08-02T17:34:20.344941Z"
    }
   },
   "outputs": [],
   "source": [
    "# model definition\n",
    "knn_model=nh.KNeighborsClassifier(n_neighbors=7)      # aumentar os neighbors tende a melhorar o modelo\n",
    "\n",
    "# model training\n",
    "knn_model.fit(x_train,y_train)      # treinando com dado de treino\n",
    "\n",
    "# predizer sobre dados que nunca viu = poder de generalização\n",
    "# model prediction                  # ñ está medindo o poder de aprendizado pq ñ tem os dados de validação \n",
    "yhat_knn=knn_model.predict_proba(x_val)"
   ]
  },
  {
   "cell_type": "code",
   "execution_count": 30,
   "metadata": {
    "ExecuteTime": {
     "end_time": "2022-08-02T17:37:42.446500Z",
     "start_time": "2022-08-02T17:37:40.721402Z"
    }
   },
   "outputs": [
    {
     "data": {
      "image/png": "[encoded data removed]",
      "text/plain": [
       "<Figure size 1120x400 with 1 Axes>"
      ]
     },
     "metadata": {},
     "output_type": "display_data"
    }
   ],
   "source": [
    "# accumulative gain  - curva acumulada, métrica de ordenação\n",
    "\n",
    "sns.set_style(\"whitegrid\")\n",
    "plt.style.use(\"classic\")\n",
    "rcParams['figure.figsize'] = 14,5\n",
    "skplt.metrics.plot_cumulative_gain(y_val,yhat_knn);# y_val é o y 'verdadeiro', se a pessoa tinha interesse ou não, e o cálculo de propensão p/ a pessoa feito pelo knn"
   ]
  },
  {
   "cell_type": "code",
   "execution_count": 41,
   "metadata": {
    "ExecuteTime": {
     "end_time": "2022-08-02T17:43:21.613900Z",
     "start_time": "2022-08-02T17:43:19.433775Z"
    }
   },
   "outputs": [
    {
     "data": {
      "image/png": "[encoded data removed]",
      "text/plain": [
       "<Figure size 1120x400 with 1 Axes>"
      ]
     },
     "metadata": {},
     "output_type": "display_data"
    }
   ],
   "source": [
    "skplt.metrics.plot_lift_curve(y_val,yhat_knn);"
   ]
  },
  {
   "cell_type": "code",
   "execution_count": 32,
   "metadata": {
    "ExecuteTime": {
     "end_time": "2022-08-02T17:37:44.093595Z",
     "start_time": "2022-08-02T17:37:44.072593Z"
    }
   },
   "outputs": [],
   "source": [
    "# pesquisar métrica de ordenação de lista"
   ]
  },
  {
   "cell_type": "markdown",
   "metadata": {
    "heading_collapsed": true
   },
   "source": [
    "## **7.2 Logistic regression**"
   ]
  },
  {
   "cell_type": "code",
   "execution_count": 33,
   "metadata": {
    "ExecuteTime": {
     "end_time": "2022-08-02T17:37:44.169599Z",
     "start_time": "2022-08-02T17:37:44.147598Z"
    },
    "hidden": true
   },
   "outputs": [],
   "source": [
    "# regressão logística\n",
    "# model definition\n",
    "\n",
    "# lr_model=lm.LogisticRegression(random_state=42)\n",
    "\n",
    "# # model training\n",
    "# lr_model.fit(x_train,y_train)\n",
    "\n",
    "# # model prediction\n",
    "# yhat_lr=lr_model.predict_proba(x_val);\n",
    "\n",
    "# # accumulative gain\n",
    "# skplt.metrics.plot_cumulative_gain(y_val,yhat_lr);\n",
    "\n",
    "\n",
    "# skplt.metrics.plot_lift_curve(y_val,yhat_lr);"
   ]
  },
  {
   "cell_type": "markdown",
   "metadata": {
    "heading_collapsed": true
   },
   "source": [
    "## **7.3 Extra Trees**"
   ]
  },
  {
   "cell_type": "code",
   "execution_count": 34,
   "metadata": {
    "ExecuteTime": {
     "end_time": "2022-08-02T17:37:44.212601Z",
     "start_time": "2022-08-02T17:37:44.186600Z"
    },
    "hidden": true
   },
   "outputs": [],
   "source": [
    "# # model definition\n",
    "# et=en.ExtraTreesClassifier(n_estimators=1000,n_jobs=-1,random_state=42)    # njobs-1 é pra usar os cores da minha máquina\n",
    "\n",
    "# # model fit\n",
    "# et.fit(x_train,y_train)\n",
    "\n",
    "# # model predict\n",
    "# yhat_et=et.predict_proba(x_val)"
   ]
  },
  {
   "cell_type": "markdown",
   "metadata": {
    "heading_collapsed": true
   },
   "source": [
    "## **7.4 Support Vector Machine**"
   ]
  },
  {
   "cell_type": "code",
   "execution_count": 35,
   "metadata": {
    "ExecuteTime": {
     "end_time": "2022-08-02T17:37:44.240603Z",
     "start_time": "2022-08-02T17:37:44.225602Z"
    },
    "hidden": true
   },
   "outputs": [],
   "source": [
    "# svc = svc()\n",
    "\n",
    "# svc.fit(x_train, y_train)\n",
    "\n",
    "# yhat_svc=svc_model.predict_proba(x_val);\n",
    "\n",
    "# skplt.metrics.plot_cumulative_gain(y_val,yhat_svc);"
   ]
  },
  {
   "cell_type": "markdown",
   "metadata": {
    "heading_collapsed": true
   },
   "source": [
    "## **7.5 Random Forest**"
   ]
  },
  {
   "cell_type": "code",
   "execution_count": 36,
   "metadata": {
    "ExecuteTime": {
     "end_time": "2022-08-02T17:37:44.318607Z",
     "start_time": "2022-08-02T17:37:44.283605Z"
    },
    "hidden": true
   },
   "outputs": [],
   "source": [
    "# # model definition\n",
    "\n",
    "# rf_model=en.RandomForestClassifier(n_estimators=1000,n_jobs=-1,random_state=42)\n",
    "\n",
    "# # model training\n",
    "# rf_model.fit(x_train,y_train)\n",
    "\n",
    "# # model prediction\n",
    "# yhat_rf=rf_model.predict_proba(x_val);\n",
    "\n",
    "# # accumulative gain\n",
    "# skplt.metrics.plot_cumulative_gain(y_val,yhat_rf);\n",
    "\n",
    "\n",
    "# skplt.metrics.plot_lift_curve(y_val,yhat_rf);"
   ]
  },
  {
   "cell_type": "markdown",
   "metadata": {},
   "source": [
    "# **8 Performance metrics** "
   ]
  },
  {
   "cell_type": "markdown",
   "metadata": {
    "heading_collapsed": true
   },
   "source": [
    "## **8.1 Precision and recall**"
   ]
  },
  {
   "cell_type": "code",
   "execution_count": 88,
   "metadata": {
    "ExecuteTime": {
     "end_time": "2022-08-02T18:47:44.567848Z",
     "start_time": "2022-08-02T18:47:44.541846Z"
    },
    "hidden": true
   },
   "outputs": [],
   "source": [
    "def precision_at_k( data, k=10 ):\n",
    "    data = data.reset_index( drop=True )\n",
    "    data['ranking'] = data.index + 1\n",
    "    \n",
    "    data['precision_at_k'] = data['response'].cumsum() / data['ranking']\n",
    "    \n",
    "    return ( data.loc[ k, 'precision_at_k'],data )"
   ]
  },
  {
   "cell_type": "code",
   "execution_count": 78,
   "metadata": {
    "ExecuteTime": {
     "end_time": "2022-08-02T18:41:56.733953Z",
     "start_time": "2022-08-02T18:41:56.706951Z"
    },
    "hidden": true
   },
   "outputs": [],
   "source": [
    "def recall_at_k( data, k=15 ):\n",
    "    data = data.reset_index( drop=True )\n",
    "    data['ranking'] = data.index + 1\n",
    "    \n",
    "    data['recall_at_k'] = data['response'].cumsum() / data['response'].sum()\n",
    "    \n",
    "    return ( data.loc[ k, 'recall_at_k'], data )"
   ]
  },
  {
   "cell_type": "code",
   "execution_count": 79,
   "metadata": {
    "ExecuteTime": {
     "end_time": "2022-08-02T18:42:39.637407Z",
     "start_time": "2022-08-02T18:42:39.340390Z"
    },
    "hidden": true
   },
   "outputs": [],
   "source": [
    "# copy dataframe\n",
    "df8 = x_validation.copy()\n",
    "df8['response'] = y_validation.copy()\n",
    "\n",
    "# propensity score\n",
    "df8['score'] = yhat_knn[:, 1].tolist()\n",
    "\n",
    "# sort clients by propensity score\n",
    "df8 = df8.sort_values( 'score', ascending=False )\n",
    "\n",
    "# compute precision at k \n",
    "precision_at_20, data = precision_at_k( df8, k=20 )\n",
    "\n",
    "# compute recall at k\n",
    "recall_at_15, data = recall_at_k( df8, k=15 )"
   ]
  },
  {
   "cell_type": "code",
   "execution_count": 101,
   "metadata": {
    "ExecuteTime": {
     "end_time": "2022-08-02T18:51:00.806072Z",
     "start_time": "2022-08-02T18:51:00.758069Z"
    },
    "hidden": true
   },
   "outputs": [
    {
     "data": {
      "text/plain": [
       "0.75"
      ]
     },
     "execution_count": 101,
     "metadata": {},
     "output_type": "execute_result"
    }
   ],
   "source": [
    "import numpy as np\n",
    "from sklearn.metrics import top_k_accuracy_score\n",
    "\n",
    "y_true = np.array([0, 1, 2, 2])\n",
    "y_score = np.array([[0.5, 0.2, 0.2],  # 0 is in top 2\n",
    "                    [0.3, 0.4, 0.2],  # 1 is in top 2\n",
    "                    [0.2, 0.4, 0.3],  # 2 is in top 2\n",
    "                    [0.7, 0.2, 0.1]]) # 2 isn't in top 2\n",
    "\n",
    "top_k_accuracy_score(y_true, y_score, k=2)"
   ]
  },
  {
   "cell_type": "markdown",
   "metadata": {
    "heading_collapsed": true
   },
   "source": [
    "## **8.1 Cummulative Curve Manually**"
   ]
  },
  {
   "cell_type": "code",
   "execution_count": 102,
   "metadata": {
    "ExecuteTime": {
     "end_time": "2022-08-02T18:54:30.458064Z",
     "start_time": "2022-08-02T18:53:29.373570Z"
    },
    "hidden": true,
    "scrolled": false
   },
   "outputs": [
    {
     "data": {
      "text/plain": [
       "<AxesSubplot:xlabel='base_cum_perc', ylabel='real_cum_perc'>"
      ]
     },
     "execution_count": 102,
     "metadata": {},
     "output_type": "execute_result"
    },
    {
     "data": {
      "image/png": "[encoded data removed]",
      "text/plain": [
       "<Figure size 960x640 with 1 Axes>"
      ]
     },
     "metadata": {},
     "output_type": "display_data"
    }
   ],
   "source": [
    "results = pd.DataFrame()\n",
    "results['prediction'] = yhat_knn[:,1].tolist()\n",
    "results['real'] = y_val.tolist()\n",
    "\n",
    "# ordering by prediction\n",
    "results = results.sort_values( 'prediction', ascending=False )\n",
    "\n",
    "# Percentage of intereset ( Propensity Score )\n",
    "results['real_cum'] = results['real'].cumsum() \n",
    "results['real_cum_perc'] = 100*results['real_cum']/results['real'].sum()\n",
    "\n",
    "# Percentage of Base ( Clients )\n",
    "results['base'] = range( 1, len( results ) + 1  )\n",
    "results['base_cum_perc'] = 100*results['base']/len( results )\n",
    "\n",
    "# Basline model\n",
    "results['baseline'] = results['base_cum_perc']\n",
    "\n",
    "plt.figure( figsize=(12,8))\n",
    "sns.lineplot( x='base_cum_perc', y='real_cum_perc', data=results )\n",
    "sns.lineplot( x='base_cum_perc', y='baseline', data=results )"
   ]
  },
  {
   "cell_type": "code",
   "execution_count": 103,
   "metadata": {
    "ExecuteTime": {
     "end_time": "2022-08-02T18:56:52.058163Z",
     "start_time": "2022-08-02T18:56:51.958157Z"
    },
    "cell_style": "center",
    "hidden": true
   },
   "outputs": [
    {
     "data": {
      "text/html": [
       "<div>\n",
       "<style scoped>\n",
       "    .dataframe tbody tr th:only-of-type {\n",
       "        vertical-align: middle;\n",
       "    }\n",
       "\n",
       "    .dataframe tbody tr th {\n",
       "        vertical-align: top;\n",
       "    }\n",
       "\n",
       "    .dataframe thead th {\n",
       "        text-align: right;\n",
       "    }\n",
       "</style>\n",
       "<table border=\"1\" class=\"dataframe\">\n",
       "  <thead>\n",
       "    <tr style=\"text-align: right;\">\n",
       "      <th></th>\n",
       "      <th>prediction</th>\n",
       "      <th>real</th>\n",
       "      <th>real_cum</th>\n",
       "      <th>real_cum_perc</th>\n",
       "      <th>base</th>\n",
       "      <th>base_cum_perc</th>\n",
       "      <th>baseline</th>\n",
       "    </tr>\n",
       "  </thead>\n",
       "  <tbody>\n",
       "    <tr>\n",
       "      <th>28644</th>\n",
       "      <td>1.0</td>\n",
       "      <td>0</td>\n",
       "      <td>0</td>\n",
       "      <td>0.000000</td>\n",
       "      <td>1</td>\n",
       "      <td>0.001312</td>\n",
       "      <td>0.001312</td>\n",
       "    </tr>\n",
       "    <tr>\n",
       "      <th>19785</th>\n",
       "      <td>1.0</td>\n",
       "      <td>0</td>\n",
       "      <td>0</td>\n",
       "      <td>0.000000</td>\n",
       "      <td>2</td>\n",
       "      <td>0.002624</td>\n",
       "      <td>0.002624</td>\n",
       "    </tr>\n",
       "    <tr>\n",
       "      <th>66900</th>\n",
       "      <td>1.0</td>\n",
       "      <td>0</td>\n",
       "      <td>0</td>\n",
       "      <td>0.000000</td>\n",
       "      <td>3</td>\n",
       "      <td>0.003936</td>\n",
       "      <td>0.003936</td>\n",
       "    </tr>\n",
       "    <tr>\n",
       "      <th>66305</th>\n",
       "      <td>1.0</td>\n",
       "      <td>1</td>\n",
       "      <td>1</td>\n",
       "      <td>0.010608</td>\n",
       "      <td>4</td>\n",
       "      <td>0.005248</td>\n",
       "      <td>0.005248</td>\n",
       "    </tr>\n",
       "    <tr>\n",
       "      <th>59485</th>\n",
       "      <td>1.0</td>\n",
       "      <td>0</td>\n",
       "      <td>1</td>\n",
       "      <td>0.010608</td>\n",
       "      <td>5</td>\n",
       "      <td>0.006560</td>\n",
       "      <td>0.006560</td>\n",
       "    </tr>\n",
       "    <tr>\n",
       "      <th>...</th>\n",
       "      <td>...</td>\n",
       "      <td>...</td>\n",
       "      <td>...</td>\n",
       "      <td>...</td>\n",
       "      <td>...</td>\n",
       "      <td>...</td>\n",
       "      <td>...</td>\n",
       "    </tr>\n",
       "    <tr>\n",
       "      <th>31887</th>\n",
       "      <td>0.0</td>\n",
       "      <td>0</td>\n",
       "      <td>9427</td>\n",
       "      <td>100.000000</td>\n",
       "      <td>76218</td>\n",
       "      <td>99.994752</td>\n",
       "      <td>99.994752</td>\n",
       "    </tr>\n",
       "    <tr>\n",
       "      <th>31890</th>\n",
       "      <td>0.0</td>\n",
       "      <td>0</td>\n",
       "      <td>9427</td>\n",
       "      <td>100.000000</td>\n",
       "      <td>76219</td>\n",
       "      <td>99.996064</td>\n",
       "      <td>99.996064</td>\n",
       "    </tr>\n",
       "    <tr>\n",
       "      <th>31892</th>\n",
       "      <td>0.0</td>\n",
       "      <td>0</td>\n",
       "      <td>9427</td>\n",
       "      <td>100.000000</td>\n",
       "      <td>76220</td>\n",
       "      <td>99.997376</td>\n",
       "      <td>99.997376</td>\n",
       "    </tr>\n",
       "    <tr>\n",
       "      <th>31893</th>\n",
       "      <td>0.0</td>\n",
       "      <td>0</td>\n",
       "      <td>9427</td>\n",
       "      <td>100.000000</td>\n",
       "      <td>76221</td>\n",
       "      <td>99.998688</td>\n",
       "      <td>99.998688</td>\n",
       "    </tr>\n",
       "    <tr>\n",
       "      <th>76221</th>\n",
       "      <td>0.0</td>\n",
       "      <td>0</td>\n",
       "      <td>9427</td>\n",
       "      <td>100.000000</td>\n",
       "      <td>76222</td>\n",
       "      <td>100.000000</td>\n",
       "      <td>100.000000</td>\n",
       "    </tr>\n",
       "  </tbody>\n",
       "</table>\n",
       "<p>76222 rows × 7 columns</p>\n",
       "</div>"
      ],
      "text/plain": [
       "       prediction  real  real_cum  real_cum_perc   base  base_cum_perc  \\\n",
       "28644         1.0     0         0       0.000000      1       0.001312   \n",
       "19785         1.0     0         0       0.000000      2       0.002624   \n",
       "66900         1.0     0         0       0.000000      3       0.003936   \n",
       "66305         1.0     1         1       0.010608      4       0.005248   \n",
       "59485         1.0     0         1       0.010608      5       0.006560   \n",
       "...           ...   ...       ...            ...    ...            ...   \n",
       "31887         0.0     0      9427     100.000000  76218      99.994752   \n",
       "31890         0.0     0      9427     100.000000  76219      99.996064   \n",
       "31892         0.0     0      9427     100.000000  76220      99.997376   \n",
       "31893         0.0     0      9427     100.000000  76221      99.998688   \n",
       "76221         0.0     0      9427     100.000000  76222     100.000000   \n",
       "\n",
       "         baseline  \n",
       "28644    0.001312  \n",
       "19785    0.002624  \n",
       "66900    0.003936  \n",
       "66305    0.005248  \n",
       "59485    0.006560  \n",
       "...           ...  \n",
       "31887   99.994752  \n",
       "31890   99.996064  \n",
       "31892   99.997376  \n",
       "31893   99.998688  \n",
       "76221  100.000000  \n",
       "\n",
       "[76222 rows x 7 columns]"
      ]
     },
     "execution_count": 103,
     "metadata": {},
     "output_type": "execute_result"
    }
   ],
   "source": [
    "results"
   ]
  },
  {
   "cell_type": "markdown",
   "metadata": {
    "heading_collapsed": true
   },
   "source": [
    "## **8.2  Lift Curve Manually**"
   ]
  },
  {
   "cell_type": "code",
   "execution_count": 105,
   "metadata": {
    "ExecuteTime": {
     "end_time": "2022-08-02T19:01:03.311533Z",
     "start_time": "2022-08-02T19:00:31.014686Z"
    },
    "hidden": true
   },
   "outputs": [
    {
     "data": {
      "text/plain": [
       "<AxesSubplot:xlabel='base_cum_perc', ylabel='lift'>"
      ]
     },
     "execution_count": 105,
     "metadata": {},
     "output_type": "execute_result"
    },
    {
     "data": {
      "image/png": "[encoded data removed]",
      "text/plain": [
       "<Figure size 960x640 with 1 Axes>"
      ]
     },
     "metadata": {},
     "output_type": "display_data"
    }
   ],
   "source": [
    "results = pd.DataFrame()\n",
    "results['prediction'] = yhat_knn[:,1].tolist()\n",
    "results['real'] = y_val.tolist()\n",
    "\n",
    "# ordering by prediction\n",
    "results = results.sort_values( 'prediction', ascending=False )\n",
    "\n",
    "# Percentage of intereset ( Propensity Score )\n",
    "results['real_cum'] = results['real'].cumsum() \n",
    "results['real_cum_perc'] = 100*results['real_cum']/results['real'].sum()\n",
    "\n",
    "# Percentage of Base ( Clients )\n",
    "results['base'] = range( 1, len( results ) + 1  )\n",
    "results['base_cum_perc'] = 100*results['base']/len( results )\n",
    "\n",
    "# Basline model\n",
    "results['baseline'] = results['base_cum_perc']\n",
    "\n",
    "# Lift Calculation\n",
    "results['lift'] = results['real_cum_perc'] / results['base_cum_perc']\n",
    "\n",
    "plt.figure( figsize=(12,8))\n",
    "sns.lineplot( x='base_cum_perc', y='lift', data=results )"
   ]
  },
  {
   "cell_type": "markdown",
   "metadata": {},
   "source": [
    "## **8.3  ROI Curve Manually**"
   ]
  },
  {
   "cell_type": "code",
   "execution_count": 109,
   "metadata": {
    "ExecuteTime": {
     "end_time": "2022-08-02T19:02:53.103813Z",
     "start_time": "2022-08-02T19:02:18.854854Z"
    }
   },
   "outputs": [
    {
     "data": {
      "text/plain": [
       "<AxesSubplot:xlabel='base_cum_perc', ylabel='lift'>"
      ]
     },
     "execution_count": 109,
     "metadata": {},
     "output_type": "execute_result"
    },
    {
     "data": {
      "image/png": "[encoded data removed]",
      "text/plain": [
       "<Figure size 960x640 with 1 Axes>"
      ]
     },
     "metadata": {},
     "output_type": "display_data"
    }
   ],
   "source": [
    "results = pd.DataFrame()\n",
    "results['prediction'] = yhat_knn[:,1].tolist()\n",
    "results['real'] = y_val.tolist()\n",
    "\n",
    "\n",
    "# ordering by prediction\n",
    "results = results.sort_values( 'prediction', ascending=False )\n",
    "\n",
    "\n",
    "# Percentage of intereset ( Propensity Score )\n",
    "results['real_cum'] = results['real'].cumsum() \n",
    "results['real_cum_perc'] = 100*results['real_cum']/results['real'].sum()\n",
    "\n",
    "\n",
    "# Percentage of Base ( Clients )\n",
    "results['base'] = range( 1, len( results ) + 1  )\n",
    "results['base_cum_perc'] = 100*results['base']/len( results )\n",
    "\n",
    "\n",
    "# Basline model\n",
    "results['baseline'] = results['base_cum_perc']\n",
    "\n",
    "\n",
    "# Lift Calculation\n",
    "results['lift'] = results['real_cum_perc'] / results['base_cum_perc']\n",
    "\n",
    "\n",
    "# ROI Curve\n",
    "plt.figure( figsize=(12,8))\n",
    "sns.lineplot( x='base_cum_perc', y='lift', data=results )"
   ]
  },
  {
   "cell_type": "code",
   "execution_count": 110,
   "metadata": {
    "ExecuteTime": {
     "end_time": "2022-08-02T20:46:55.377851Z",
     "start_time": "2022-08-02T20:46:55.266845Z"
    }
   },
   "outputs": [
    {
     "data": {
      "text/html": [
       "<div>\n",
       "<style scoped>\n",
       "    .dataframe tbody tr th:only-of-type {\n",
       "        vertical-align: middle;\n",
       "    }\n",
       "\n",
       "    .dataframe tbody tr th {\n",
       "        vertical-align: top;\n",
       "    }\n",
       "\n",
       "    .dataframe thead th {\n",
       "        text-align: right;\n",
       "    }\n",
       "</style>\n",
       "<table border=\"1\" class=\"dataframe\">\n",
       "  <thead>\n",
       "    <tr style=\"text-align: right;\">\n",
       "      <th></th>\n",
       "      <th>prediction</th>\n",
       "      <th>real</th>\n",
       "      <th>real_cum</th>\n",
       "      <th>real_cum_perc</th>\n",
       "      <th>base</th>\n",
       "      <th>base_cum_perc</th>\n",
       "      <th>baseline</th>\n",
       "      <th>lift</th>\n",
       "    </tr>\n",
       "  </thead>\n",
       "  <tbody>\n",
       "    <tr>\n",
       "      <th>28644</th>\n",
       "      <td>1.0</td>\n",
       "      <td>0</td>\n",
       "      <td>0</td>\n",
       "      <td>0.000000</td>\n",
       "      <td>1</td>\n",
       "      <td>0.001312</td>\n",
       "      <td>0.001312</td>\n",
       "      <td>0.000000</td>\n",
       "    </tr>\n",
       "    <tr>\n",
       "      <th>19785</th>\n",
       "      <td>1.0</td>\n",
       "      <td>0</td>\n",
       "      <td>0</td>\n",
       "      <td>0.000000</td>\n",
       "      <td>2</td>\n",
       "      <td>0.002624</td>\n",
       "      <td>0.002624</td>\n",
       "      <td>0.000000</td>\n",
       "    </tr>\n",
       "    <tr>\n",
       "      <th>66900</th>\n",
       "      <td>1.0</td>\n",
       "      <td>0</td>\n",
       "      <td>0</td>\n",
       "      <td>0.000000</td>\n",
       "      <td>3</td>\n",
       "      <td>0.003936</td>\n",
       "      <td>0.003936</td>\n",
       "      <td>0.000000</td>\n",
       "    </tr>\n",
       "    <tr>\n",
       "      <th>66305</th>\n",
       "      <td>1.0</td>\n",
       "      <td>1</td>\n",
       "      <td>1</td>\n",
       "      <td>0.010608</td>\n",
       "      <td>4</td>\n",
       "      <td>0.005248</td>\n",
       "      <td>0.005248</td>\n",
       "      <td>2.021375</td>\n",
       "    </tr>\n",
       "    <tr>\n",
       "      <th>59485</th>\n",
       "      <td>1.0</td>\n",
       "      <td>0</td>\n",
       "      <td>1</td>\n",
       "      <td>0.010608</td>\n",
       "      <td>5</td>\n",
       "      <td>0.006560</td>\n",
       "      <td>0.006560</td>\n",
       "      <td>1.617100</td>\n",
       "    </tr>\n",
       "    <tr>\n",
       "      <th>...</th>\n",
       "      <td>...</td>\n",
       "      <td>...</td>\n",
       "      <td>...</td>\n",
       "      <td>...</td>\n",
       "      <td>...</td>\n",
       "      <td>...</td>\n",
       "      <td>...</td>\n",
       "      <td>...</td>\n",
       "    </tr>\n",
       "    <tr>\n",
       "      <th>31887</th>\n",
       "      <td>0.0</td>\n",
       "      <td>0</td>\n",
       "      <td>9427</td>\n",
       "      <td>100.000000</td>\n",
       "      <td>76218</td>\n",
       "      <td>99.994752</td>\n",
       "      <td>99.994752</td>\n",
       "      <td>1.000052</td>\n",
       "    </tr>\n",
       "    <tr>\n",
       "      <th>31890</th>\n",
       "      <td>0.0</td>\n",
       "      <td>0</td>\n",
       "      <td>9427</td>\n",
       "      <td>100.000000</td>\n",
       "      <td>76219</td>\n",
       "      <td>99.996064</td>\n",
       "      <td>99.996064</td>\n",
       "      <td>1.000039</td>\n",
       "    </tr>\n",
       "    <tr>\n",
       "      <th>31892</th>\n",
       "      <td>0.0</td>\n",
       "      <td>0</td>\n",
       "      <td>9427</td>\n",
       "      <td>100.000000</td>\n",
       "      <td>76220</td>\n",
       "      <td>99.997376</td>\n",
       "      <td>99.997376</td>\n",
       "      <td>1.000026</td>\n",
       "    </tr>\n",
       "    <tr>\n",
       "      <th>31893</th>\n",
       "      <td>0.0</td>\n",
       "      <td>0</td>\n",
       "      <td>9427</td>\n",
       "      <td>100.000000</td>\n",
       "      <td>76221</td>\n",
       "      <td>99.998688</td>\n",
       "      <td>99.998688</td>\n",
       "      <td>1.000013</td>\n",
       "    </tr>\n",
       "    <tr>\n",
       "      <th>76221</th>\n",
       "      <td>0.0</td>\n",
       "      <td>0</td>\n",
       "      <td>9427</td>\n",
       "      <td>100.000000</td>\n",
       "      <td>76222</td>\n",
       "      <td>100.000000</td>\n",
       "      <td>100.000000</td>\n",
       "      <td>1.000000</td>\n",
       "    </tr>\n",
       "  </tbody>\n",
       "</table>\n",
       "<p>76222 rows × 8 columns</p>\n",
       "</div>"
      ],
      "text/plain": [
       "       prediction  real  real_cum  real_cum_perc   base  base_cum_perc  \\\n",
       "28644         1.0     0         0       0.000000      1       0.001312   \n",
       "19785         1.0     0         0       0.000000      2       0.002624   \n",
       "66900         1.0     0         0       0.000000      3       0.003936   \n",
       "66305         1.0     1         1       0.010608      4       0.005248   \n",
       "59485         1.0     0         1       0.010608      5       0.006560   \n",
       "...           ...   ...       ...            ...    ...            ...   \n",
       "31887         0.0     0      9427     100.000000  76218      99.994752   \n",
       "31890         0.0     0      9427     100.000000  76219      99.996064   \n",
       "31892         0.0     0      9427     100.000000  76220      99.997376   \n",
       "31893         0.0     0      9427     100.000000  76221      99.998688   \n",
       "76221         0.0     0      9427     100.000000  76222     100.000000   \n",
       "\n",
       "         baseline      lift  \n",
       "28644    0.001312  0.000000  \n",
       "19785    0.002624  0.000000  \n",
       "66900    0.003936  0.000000  \n",
       "66305    0.005248  2.021375  \n",
       "59485    0.006560  1.617100  \n",
       "...           ...       ...  \n",
       "31887   99.994752  1.000052  \n",
       "31890   99.996064  1.000039  \n",
       "31892   99.997376  1.000026  \n",
       "31893   99.998688  1.000013  \n",
       "76221  100.000000  1.000000  \n",
       "\n",
       "[76222 rows x 8 columns]"
      ]
     },
     "execution_count": 110,
     "metadata": {},
     "output_type": "execute_result"
    }
   ],
   "source": [
    "results"
   ]
  },
  {
   "cell_type": "code",
   "execution_count": 118,
   "metadata": {
    "ExecuteTime": {
     "end_time": "2022-08-02T21:28:31.402615Z",
     "start_time": "2022-08-02T21:28:31.030594Z"
    }
   },
   "outputs": [
    {
     "data": {
      "text/html": [
       "<div>\n",
       "<style scoped>\n",
       "    .dataframe tbody tr th:only-of-type {\n",
       "        vertical-align: middle;\n",
       "    }\n",
       "\n",
       "    .dataframe tbody tr th {\n",
       "        vertical-align: top;\n",
       "    }\n",
       "\n",
       "    .dataframe thead th {\n",
       "        text-align: right;\n",
       "    }\n",
       "</style>\n",
       "<table border=\"1\" class=\"dataframe\">\n",
       "  <thead>\n",
       "    <tr style=\"text-align: right;\">\n",
       "      <th></th>\n",
       "      <th></th>\n",
       "      <th>min</th>\n",
       "      <th>count</th>\n",
       "    </tr>\n",
       "  </thead>\n",
       "  <tbody>\n",
       "    <tr>\n",
       "      <th>0</th>\n",
       "      <td>0.01</td>\n",
       "      <td>0.000000</td>\n",
       "      <td>45635</td>\n",
       "    </tr>\n",
       "    <tr>\n",
       "      <th>1</th>\n",
       "      <td>0.10</td>\n",
       "      <td>0.142857</td>\n",
       "      <td>11169</td>\n",
       "    </tr>\n",
       "    <tr>\n",
       "      <th>2</th>\n",
       "      <td>0.20</td>\n",
       "      <td>0.285714</td>\n",
       "      <td>9391</td>\n",
       "    </tr>\n",
       "    <tr>\n",
       "      <th>3</th>\n",
       "      <td>0.40</td>\n",
       "      <td>0.428571</td>\n",
       "      <td>6228</td>\n",
       "    </tr>\n",
       "    <tr>\n",
       "      <th>4</th>\n",
       "      <td>0.50</td>\n",
       "      <td>0.571429</td>\n",
       "      <td>2786</td>\n",
       "    </tr>\n",
       "    <tr>\n",
       "      <th>5</th>\n",
       "      <td>0.70</td>\n",
       "      <td>0.714286</td>\n",
       "      <td>841</td>\n",
       "    </tr>\n",
       "    <tr>\n",
       "      <th>6</th>\n",
       "      <td>0.80</td>\n",
       "      <td>0.857143</td>\n",
       "      <td>149</td>\n",
       "    </tr>\n",
       "    <tr>\n",
       "      <th>7</th>\n",
       "      <td>0.90</td>\n",
       "      <td>1.000000</td>\n",
       "      <td>23</td>\n",
       "    </tr>\n",
       "  </tbody>\n",
       "</table>\n",
       "</div>"
      ],
      "text/plain": [
       "              min  count\n",
       "0  0.01  0.000000  45635\n",
       "1  0.10  0.142857  11169\n",
       "2  0.20  0.285714   9391\n",
       "3  0.40  0.428571   6228\n",
       "4  0.50  0.571429   2786\n",
       "5  0.70  0.714286    841\n",
       "6  0.80  0.857143    149\n",
       "7  0.90  1.000000     23"
      ]
     },
     "execution_count": 118,
     "metadata": {},
     "output_type": "execute_result"
    }
   ],
   "source": [
    "# Compute bucket\n",
    "results['bucket'] = results['prediction'].apply( lambda x: 0.9 if x >= 0.90 else \n",
    "                                                           0.8 if ( x >= 0.80) & ( x <= 0.90 ) else \n",
    "                                                           0.7 if ( x >= 0.70) & ( x <= 0.80 ) else \n",
    "                                                           0.6 if ( x >= 0.60) & ( x <= 0.70 ) else \n",
    "                                                           0.5 if ( x >= 0.50) & ( x <= 0.60 ) else \n",
    "                                                           0.4 if ( x >= 0.40) & ( x <= 0.50 ) else \n",
    "                                                           0.3 if ( x >= 0.30) & ( x <= 0.40 ) else \n",
    "                                                           0.2 if ( x >= 0.20) & ( x <= 0.30 ) else \n",
    "                                                           0.1 if ( x >= 0.10) & ( x <= 0.20 ) else 0.01 )\n",
    "\n",
    "#  Aggregate clients among buckets\n",
    "df = results[['prediction','bucket']].groupby( 'bucket' ).agg( {'min', 'count'} ).reset_index()\n",
    "df.columns = df.columns.droplevel()\n",
    "df"
   ]
  },
  {
   "cell_type": "code",
   "execution_count": 112,
   "metadata": {
    "ExecuteTime": {
     "end_time": "2022-08-02T20:48:36.994663Z",
     "start_time": "2022-08-02T20:48:36.552638Z"
    }
   },
   "outputs": [
    {
     "data": {
      "text/html": [
       "<div>\n",
       "<style scoped>\n",
       "    .dataframe tbody tr th:only-of-type {\n",
       "        vertical-align: middle;\n",
       "    }\n",
       "\n",
       "    .dataframe tbody tr th {\n",
       "        vertical-align: top;\n",
       "    }\n",
       "\n",
       "    .dataframe thead th {\n",
       "        text-align: right;\n",
       "    }\n",
       "</style>\n",
       "<table border=\"1\" class=\"dataframe\">\n",
       "  <thead>\n",
       "    <tr style=\"text-align: right;\">\n",
       "      <th></th>\n",
       "      <th>index</th>\n",
       "      <th>clients</th>\n",
       "      <th>propensity_score</th>\n",
       "      <th>gross_revenue</th>\n",
       "      <th>cost</th>\n",
       "      <th>base</th>\n",
       "      <th>revenue</th>\n",
       "    </tr>\n",
       "  </thead>\n",
       "  <tbody>\n",
       "    <tr>\n",
       "      <th>7</th>\n",
       "      <td>0.90</td>\n",
       "      <td>1.000000</td>\n",
       "      <td>23</td>\n",
       "      <td>920.000000</td>\n",
       "      <td>4.000000</td>\n",
       "      <td>1.000000</td>\n",
       "      <td>916.000000</td>\n",
       "    </tr>\n",
       "    <tr>\n",
       "      <th>6</th>\n",
       "      <td>0.80</td>\n",
       "      <td>0.857143</td>\n",
       "      <td>149</td>\n",
       "      <td>5108.571429</td>\n",
       "      <td>3.428571</td>\n",
       "      <td>0.750000</td>\n",
       "      <td>5105.142857</td>\n",
       "    </tr>\n",
       "    <tr>\n",
       "      <th>5</th>\n",
       "      <td>0.70</td>\n",
       "      <td>0.714286</td>\n",
       "      <td>841</td>\n",
       "      <td>24028.571429</td>\n",
       "      <td>2.857143</td>\n",
       "      <td>0.535714</td>\n",
       "      <td>24025.714286</td>\n",
       "    </tr>\n",
       "    <tr>\n",
       "      <th>4</th>\n",
       "      <td>0.50</td>\n",
       "      <td>0.571429</td>\n",
       "      <td>2786</td>\n",
       "      <td>63680.000000</td>\n",
       "      <td>2.285714</td>\n",
       "      <td>0.357143</td>\n",
       "      <td>63677.714286</td>\n",
       "    </tr>\n",
       "    <tr>\n",
       "      <th>3</th>\n",
       "      <td>0.40</td>\n",
       "      <td>0.428571</td>\n",
       "      <td>6228</td>\n",
       "      <td>106765.714286</td>\n",
       "      <td>1.714286</td>\n",
       "      <td>0.214286</td>\n",
       "      <td>106764.000000</td>\n",
       "    </tr>\n",
       "    <tr>\n",
       "      <th>2</th>\n",
       "      <td>0.20</td>\n",
       "      <td>0.285714</td>\n",
       "      <td>9391</td>\n",
       "      <td>107325.714286</td>\n",
       "      <td>1.142857</td>\n",
       "      <td>0.107143</td>\n",
       "      <td>107324.571429</td>\n",
       "    </tr>\n",
       "    <tr>\n",
       "      <th>1</th>\n",
       "      <td>0.10</td>\n",
       "      <td>0.142857</td>\n",
       "      <td>11169</td>\n",
       "      <td>63822.857143</td>\n",
       "      <td>0.571429</td>\n",
       "      <td>0.035714</td>\n",
       "      <td>63822.285714</td>\n",
       "    </tr>\n",
       "    <tr>\n",
       "      <th>0</th>\n",
       "      <td>0.01</td>\n",
       "      <td>0.000000</td>\n",
       "      <td>45635</td>\n",
       "      <td>0.000000</td>\n",
       "      <td>0.000000</td>\n",
       "      <td>0.000000</td>\n",
       "      <td>0.000000</td>\n",
       "    </tr>\n",
       "  </tbody>\n",
       "</table>\n",
       "</div>"
      ],
      "text/plain": [
       "   index   clients  propensity_score  gross_revenue      cost      base  \\\n",
       "7   0.90  1.000000                23     920.000000  4.000000  1.000000   \n",
       "6   0.80  0.857143               149    5108.571429  3.428571  0.750000   \n",
       "5   0.70  0.714286               841   24028.571429  2.857143  0.535714   \n",
       "4   0.50  0.571429              2786   63680.000000  2.285714  0.357143   \n",
       "3   0.40  0.428571              6228  106765.714286  1.714286  0.214286   \n",
       "2   0.20  0.285714              9391  107325.714286  1.142857  0.107143   \n",
       "1   0.10  0.142857             11169   63822.857143  0.571429  0.035714   \n",
       "0   0.01  0.000000             45635       0.000000  0.000000  0.000000   \n",
       "\n",
       "         revenue  \n",
       "7     916.000000  \n",
       "6    5105.142857  \n",
       "5   24025.714286  \n",
       "4   63677.714286  \n",
       "3  106764.000000  \n",
       "2  107324.571429  \n",
       "1   63822.285714  \n",
       "0       0.000000  "
      ]
     },
     "execution_count": 112,
     "metadata": {},
     "output_type": "execute_result"
    }
   ],
   "source": [
    "# Compute bucket\n",
    "results['bucket'] = results['prediction'].apply( lambda x: 0.9 if x >= 0.90 else \n",
    "                                                           0.8 if ( x >= 0.80) & ( x <= 0.90 ) else \n",
    "                                                           0.7 if ( x >= 0.70) & ( x <= 0.80 ) else \n",
    "                                                           0.6 if ( x >= 0.60) & ( x <= 0.70 ) else \n",
    "                                                           0.5 if ( x >= 0.50) & ( x <= 0.60 ) else \n",
    "                                                           0.4 if ( x >= 0.40) & ( x <= 0.50 ) else \n",
    "                                                           0.3 if ( x >= 0.30) & ( x <= 0.40 ) else \n",
    "                                                           0.2 if ( x >= 0.20) & ( x <= 0.30 ) else \n",
    "                                                           0.1 if ( x >= 0.10) & ( x <= 0.20 ) else 0.01 )\n",
    "\n",
    "#  Aggregate clients among buckets\n",
    "df = results[['prediction','bucket']].groupby( 'bucket' ).agg( {'min', 'count'} ).reset_index()\n",
    "df.columns = df.columns.droplevel()\n",
    "df.columns = ['index', 'clients', 'propensity_score']\n",
    "\n",
    "# Compute revenue and cost\n",
    "df['gross_revenue'] = 40 * df['clients'] * df['propensity_score'] \n",
    "df['cost'] = 4 * df['clients']\n",
    "\n",
    "df['base'] = df['clients'].sort_values( ascending=True ).cumsum() / df['clients'].sum()\n",
    "\n",
    "# revenue\n",
    "df['revenue'] = df['gross_revenue'] - df['cost']\n",
    "df = df.sort_values( 'index', ascending=False )\n",
    "df"
   ]
  },
  {
   "cell_type": "code",
   "execution_count": 116,
   "metadata": {
    "ExecuteTime": {
     "end_time": "2022-08-02T20:49:25.673447Z",
     "start_time": "2022-08-02T20:49:25.574442Z"
    }
   },
   "outputs": [
    {
     "data": {
      "text/html": [
       "<div>\n",
       "<style scoped>\n",
       "    .dataframe tbody tr th:only-of-type {\n",
       "        vertical-align: middle;\n",
       "    }\n",
       "\n",
       "    .dataframe tbody tr th {\n",
       "        vertical-align: top;\n",
       "    }\n",
       "\n",
       "    .dataframe thead th {\n",
       "        text-align: right;\n",
       "    }\n",
       "</style>\n",
       "<table border=\"1\" class=\"dataframe\">\n",
       "  <thead>\n",
       "    <tr style=\"text-align: right;\">\n",
       "      <th></th>\n",
       "      <th>prediction</th>\n",
       "      <th>real</th>\n",
       "      <th>real_cum</th>\n",
       "      <th>real_cum_perc</th>\n",
       "      <th>base</th>\n",
       "      <th>base_cum_perc</th>\n",
       "      <th>baseline</th>\n",
       "      <th>lift</th>\n",
       "      <th>bucket</th>\n",
       "    </tr>\n",
       "  </thead>\n",
       "  <tbody>\n",
       "    <tr>\n",
       "      <th>70546</th>\n",
       "      <td>0.142857</td>\n",
       "      <td>0</td>\n",
       "      <td>7883</td>\n",
       "      <td>83.621513</td>\n",
       "      <td>29435</td>\n",
       "      <td>38.617460</td>\n",
       "      <td>38.617460</td>\n",
       "      <td>2.165381</td>\n",
       "      <td>0.10</td>\n",
       "    </tr>\n",
       "    <tr>\n",
       "      <th>25547</th>\n",
       "      <td>0.000000</td>\n",
       "      <td>0</td>\n",
       "      <td>9319</td>\n",
       "      <td>98.854355</td>\n",
       "      <td>72376</td>\n",
       "      <td>94.954213</td>\n",
       "      <td>94.954213</td>\n",
       "      <td>1.041074</td>\n",
       "      <td>0.01</td>\n",
       "    </tr>\n",
       "    <tr>\n",
       "      <th>36563</th>\n",
       "      <td>0.142857</td>\n",
       "      <td>0</td>\n",
       "      <td>6682</td>\n",
       "      <td>70.881511</td>\n",
       "      <td>23765</td>\n",
       "      <td>31.178662</td>\n",
       "      <td>31.178662</td>\n",
       "      <td>2.273398</td>\n",
       "      <td>0.10</td>\n",
       "    </tr>\n",
       "    <tr>\n",
       "      <th>32322</th>\n",
       "      <td>0.142857</td>\n",
       "      <td>0</td>\n",
       "      <td>6524</td>\n",
       "      <td>69.205474</td>\n",
       "      <td>23026</td>\n",
       "      <td>30.209126</td>\n",
       "      <td>30.209126</td>\n",
       "      <td>2.290880</td>\n",
       "      <td>0.10</td>\n",
       "    </tr>\n",
       "    <tr>\n",
       "      <th>12479</th>\n",
       "      <td>0.142857</td>\n",
       "      <td>0</td>\n",
       "      <td>7952</td>\n",
       "      <td>84.353453</td>\n",
       "      <td>29810</td>\n",
       "      <td>39.109443</td>\n",
       "      <td>39.109443</td>\n",
       "      <td>2.156856</td>\n",
       "      <td>0.10</td>\n",
       "    </tr>\n",
       "    <tr>\n",
       "      <th>49907</th>\n",
       "      <td>0.428571</td>\n",
       "      <td>1</td>\n",
       "      <td>2696</td>\n",
       "      <td>28.598706</td>\n",
       "      <td>8613</td>\n",
       "      <td>11.299887</td>\n",
       "      <td>11.299887</td>\n",
       "      <td>2.530884</td>\n",
       "      <td>0.40</td>\n",
       "    </tr>\n",
       "    <tr>\n",
       "      <th>48462</th>\n",
       "      <td>0.285714</td>\n",
       "      <td>0</td>\n",
       "      <td>3682</td>\n",
       "      <td>39.058025</td>\n",
       "      <td>12079</td>\n",
       "      <td>15.847131</td>\n",
       "      <td>15.847131</td>\n",
       "      <td>2.464675</td>\n",
       "      <td>0.20</td>\n",
       "    </tr>\n",
       "    <tr>\n",
       "      <th>5826</th>\n",
       "      <td>0.285714</td>\n",
       "      <td>0</td>\n",
       "      <td>4722</td>\n",
       "      <td>50.090167</td>\n",
       "      <td>15722</td>\n",
       "      <td>20.626591</td>\n",
       "      <td>20.626591</td>\n",
       "      <td>2.428427</td>\n",
       "      <td>0.20</td>\n",
       "    </tr>\n",
       "    <tr>\n",
       "      <th>16980</th>\n",
       "      <td>0.000000</td>\n",
       "      <td>1</td>\n",
       "      <td>8626</td>\n",
       "      <td>91.503129</td>\n",
       "      <td>49457</td>\n",
       "      <td>64.885466</td>\n",
       "      <td>64.885466</td>\n",
       "      <td>1.410225</td>\n",
       "      <td>0.01</td>\n",
       "    </tr>\n",
       "    <tr>\n",
       "      <th>61156</th>\n",
       "      <td>0.428571</td>\n",
       "      <td>0</td>\n",
       "      <td>2671</td>\n",
       "      <td>28.333510</td>\n",
       "      <td>8529</td>\n",
       "      <td>11.189683</td>\n",
       "      <td>11.189683</td>\n",
       "      <td>2.532110</td>\n",
       "      <td>0.40</td>\n",
       "    </tr>\n",
       "  </tbody>\n",
       "</table>\n",
       "</div>"
      ],
      "text/plain": [
       "       prediction  real  real_cum  real_cum_perc   base  base_cum_perc  \\\n",
       "70546    0.142857     0      7883      83.621513  29435      38.617460   \n",
       "25547    0.000000     0      9319      98.854355  72376      94.954213   \n",
       "36563    0.142857     0      6682      70.881511  23765      31.178662   \n",
       "32322    0.142857     0      6524      69.205474  23026      30.209126   \n",
       "12479    0.142857     0      7952      84.353453  29810      39.109443   \n",
       "49907    0.428571     1      2696      28.598706   8613      11.299887   \n",
       "48462    0.285714     0      3682      39.058025  12079      15.847131   \n",
       "5826     0.285714     0      4722      50.090167  15722      20.626591   \n",
       "16980    0.000000     1      8626      91.503129  49457      64.885466   \n",
       "61156    0.428571     0      2671      28.333510   8529      11.189683   \n",
       "\n",
       "        baseline      lift  bucket  \n",
       "70546  38.617460  2.165381    0.10  \n",
       "25547  94.954213  1.041074    0.01  \n",
       "36563  31.178662  2.273398    0.10  \n",
       "32322  30.209126  2.290880    0.10  \n",
       "12479  39.109443  2.156856    0.10  \n",
       "49907  11.299887  2.530884    0.40  \n",
       "48462  15.847131  2.464675    0.20  \n",
       "5826   20.626591  2.428427    0.20  \n",
       "16980  64.885466  1.410225    0.01  \n",
       "61156  11.189683  2.532110    0.40  "
      ]
     },
     "execution_count": 116,
     "metadata": {},
     "output_type": "execute_result"
    }
   ],
   "source": [
    "results.sample(10)"
   ]
  },
  {
   "cell_type": "code",
   "execution_count": 108,
   "metadata": {
    "ExecuteTime": {
     "end_time": "2022-08-02T19:02:06.096125Z",
     "start_time": "2022-08-02T19:02:04.964060Z"
    }
   },
   "outputs": [
    {
     "data": {
      "text/plain": [
       "<AxesSubplot:xlabel='base', ylabel='revenue'>"
      ]
     },
     "execution_count": 108,
     "metadata": {},
     "output_type": "execute_result"
    },
    {
     "data": {
      "image/png": "[encoded data removed]",
      "text/plain": [
       "<Figure size 960x640 with 1 Axes>"
      ]
     },
     "metadata": {},
     "output_type": "display_data"
    }
   ],
   "source": [
    "plt.figure( figsize=(12,8))\n",
    "aux = df[df['propensity_score'] >= 0.1]\n",
    "sns.lineplot( x='base', y='revenue', data=aux )"
   ]
  },
  {
   "cell_type": "code",
   "execution_count": null,
   "metadata": {},
   "outputs": [],
   "source": []
  }
 ],
 "metadata": {
  "hide_input": false,
  "kernelspec": {
   "display_name": "Python 3 (ipykernel)",
   "language": "python",
   "name": "python3"
  },
  "language_info": {
   "codemirror_mode": {
    "name": "ipython",
    "version": 3
   },
   "file_extension": ".py",
   "mimetype": "text/x-python",
   "name": "python",
   "nbconvert_exporter": "python",
   "pygments_lexer": "ipython3",
   "version": "3.10.4"
  },
  "varInspector": {
   "cols": {
    "lenName": 16,
    "lenType": 16,
    "lenVar": 40
   },
   "kernels_config": {
    "python": {
     "delete_cmd_postfix": "",
     "delete_cmd_prefix": "del ",
     "library": "var_list.py",
     "varRefreshCmd": "print(var_dic_list())"
    },
    "r": {
     "delete_cmd_postfix": ") ",
     "delete_cmd_prefix": "rm(",
     "library": "var_list.r",
     "varRefreshCmd": "cat(var_dic_list()) "
    }
   },
   "position": {
    "height": "145.087px",
    "left": "1232px",
    "right": "20px",
    "top": "120px",
    "width": "350px"
   },
   "types_to_exclude": [
    "module",
    "function",
    "builtin_function_or_method",
    "instance",
    "_Feature"
   ],
   "window_display": false
  }
 },
 "nbformat": 4,
 "nbformat_minor": 2
}
